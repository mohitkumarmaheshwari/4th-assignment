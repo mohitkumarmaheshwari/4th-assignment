{
 "cells": [
  {
   "cell_type": "markdown",
   "id": "d6a5f002-7d0c-4404-a05a-f5c2c397a32e",
   "metadata": {},
   "source": [
    "control flow"
   ]
  },
  {
   "cell_type": "code",
   "execution_count": 1,
   "id": "cdaf2507-a651-4019-9c4b-9c561a919875",
   "metadata": {},
   "outputs": [],
   "source": [
    "#basic if-else statement:"
   ]
  },
  {
   "cell_type": "markdown",
   "id": "113d9901-1b76-4f22-a6ef-a1fd5290e066",
   "metadata": {},
   "source": [
    "q.1"
   ]
  },
  {
   "cell_type": "code",
   "execution_count": 2,
   "id": "ebd92715-eb8f-435d-bb59-d3a13d073a5b",
   "metadata": {},
   "outputs": [],
   "source": [
    "#You can create a simple Python program to check if a given number is positive or negative using an if statement. Here's a sample program:"
   ]
  },
  {
   "cell_type": "code",
   "execution_count": 3,
   "id": "1ce8c3b0-d0fe-4389-9fe0-84883e7607a9",
   "metadata": {},
   "outputs": [
    {
     "name": "stdin",
     "output_type": "stream",
     "text": [
      "Enter a number:  5\n"
     ]
    },
    {
     "name": "stdout",
     "output_type": "stream",
     "text": [
      "The number is positive.\n"
     ]
    }
   ],
   "source": [
    "# Input a number from the user\n",
    "num = float(input(\"Enter a number: \"))\n",
    "\n",
    "# Check if the number is positive, negative, or zero\n",
    "if num > 0:\n",
    "    print(\"The number is positive.\")\n",
    "elif num < 0:\n",
    "    print(\"The number is negative.\")\n",
    "else:\n",
    "    print(\"The number is zero.\")\n"
   ]
  },
  {
   "cell_type": "markdown",
   "id": "195a5fcb-6de8-4ac4-8f10-b8c139b2af5a",
   "metadata": {},
   "source": [
    "q.2"
   ]
  },
  {
   "cell_type": "code",
   "execution_count": 4,
   "id": "e05b59da-d751-49b3-a57a-34442fc98fe4",
   "metadata": {},
   "outputs": [],
   "source": [
    "#You can create a Python program to determine if a person is eligible to vote based on their age. In most countries, the voting age is 18, so we'll use that as the threshold in this example. Here's a sample program:"
   ]
  },
  {
   "cell_type": "code",
   "execution_count": 5,
   "id": "a05f1e5a-3cd8-4f18-a2c5-63b8e04e06c9",
   "metadata": {},
   "outputs": [
    {
     "name": "stdin",
     "output_type": "stream",
     "text": [
      "Enter your age:  30\n"
     ]
    },
    {
     "name": "stdout",
     "output_type": "stream",
     "text": [
      "You are eligible to vote!\n"
     ]
    }
   ],
   "source": [
    "# Input the person's age\n",
    "age = int(input(\"Enter your age: \"))\n",
    "\n",
    "# Check if the person is eligible to vote\n",
    "if age >= 18:\n",
    "    print(\"You are eligible to vote!\")\n",
    "else:\n",
    "    print(\"You are not eligible to vote yet.\")\n"
   ]
  },
  {
   "cell_type": "markdown",
   "id": "d4265de4-8988-40ad-a595-42e6e66b2950",
   "metadata": {},
   "source": [
    "q.3"
   ]
  },
  {
   "cell_type": "code",
   "execution_count": 6,
   "id": "dafc3cca-e479-435b-8755-9e41130a44b8",
   "metadata": {},
   "outputs": [],
   "source": [
    "#You can create a Python program to find the maximum of two numbers using if-else statements. Here's a simple example:"
   ]
  },
  {
   "cell_type": "code",
   "execution_count": 7,
   "id": "ee085f3a-b3e2-4459-b4ee-3d4b9c8cefb4",
   "metadata": {},
   "outputs": [
    {
     "name": "stdin",
     "output_type": "stream",
     "text": [
      "Enter the first number:  2\n",
      "Enter the second number:  5\n"
     ]
    },
    {
     "name": "stdout",
     "output_type": "stream",
     "text": [
      "The maximum of 2.0 and 5.0 is 5.0.\n"
     ]
    }
   ],
   "source": [
    "# Input two numbers from the user\n",
    "num1 = float(input(\"Enter the first number: \"))\n",
    "num2 = float(input(\"Enter the second number: \"))\n",
    "\n",
    "# Compare the two numbers to find the maximum\n",
    "if num1 > num2:\n",
    "    max_num = num1\n",
    "else:\n",
    "    max_num = num2\n",
    "\n",
    "# Print the maximum number\n",
    "print(f\"The maximum of {num1} and {num2} is {max_num}.\")\n"
   ]
  },
  {
   "cell_type": "markdown",
   "id": "cee282c9-70c4-4af6-8c31-7cbc22998950",
   "metadata": {},
   "source": [
    "q.4"
   ]
  },
  {
   "cell_type": "code",
   "execution_count": 8,
   "id": "0945be11-0f31-48a3-b353-fe6e5bd08f72",
   "metadata": {},
   "outputs": [],
   "source": [
    "#You can write a Python script to classify a given year as a leap year or not using the following logic:"
   ]
  },
  {
   "cell_type": "code",
   "execution_count": 9,
   "id": "72f95174-006d-4162-8490-0a44793d3849",
   "metadata": {},
   "outputs": [
    {
     "name": "stdin",
     "output_type": "stream",
     "text": [
      "Enter a year:  1990\n"
     ]
    },
    {
     "name": "stdout",
     "output_type": "stream",
     "text": [
      "1990 is not a leap year.\n"
     ]
    }
   ],
   "source": [
    "# Input a year from the user\n",
    "year = int(input(\"Enter a year: \"))\n",
    "\n",
    "# Check if it's a leap year\n",
    "if (year % 4 == 0 and year % 100 != 0) or (year % 400 == 0):\n",
    "    print(f\"{year} is a leap year.\")\n",
    "else:\n",
    "    print(f\"{year} is not a leap year.\")\n"
   ]
  },
  {
   "cell_type": "markdown",
   "id": "8d055e7a-2165-4946-b894-1b7459da8704",
   "metadata": {},
   "source": [
    "q.5"
   ]
  },
  {
   "cell_type": "code",
   "execution_count": 10,
   "id": "80731e61-f818-4d9f-84bf-47b6a5235406",
   "metadata": {},
   "outputs": [],
   "source": [
    "#You can create a Python program to check whether a character is a vowel or a consonant using the following code:"
   ]
  },
  {
   "cell_type": "code",
   "execution_count": 12,
   "id": "3bb86934-d437-4196-8828-38f17c490a25",
   "metadata": {},
   "outputs": [
    {
     "name": "stdin",
     "output_type": "stream",
     "text": [
      "Enter a character:  m\n"
     ]
    },
    {
     "name": "stdout",
     "output_type": "stream",
     "text": [
      "m is a consonant.\n"
     ]
    }
   ],
   "source": [
    "# Input a character from the user\n",
    "char = input(\"Enter a character: \")\n",
    "\n",
    "# Convert the character to lowercase (to handle both uppercase and lowercase)\n",
    "char = char.lower()\n",
    "\n",
    "# Check if the character is a vowel or a consonant\n",
    "if char.isalpha() and len(char) == 1:\n",
    "    if char in \"aeiou\":\n",
    "        print(f\"{char} is a vowel.\")\n",
    "    else:\n",
    "        print(f\"{char} is a consonant.\")\n",
    "else:\n",
    "    print(\"Invalid input. Please enter a single alphabet character.\")\n"
   ]
  },
  {
   "cell_type": "markdown",
   "id": "88914f56-4f57-4ee1-accb-706b82bfd1a5",
   "metadata": {},
   "source": [
    "q.6"
   ]
  },
  {
   "cell_type": "code",
   "execution_count": 13,
   "id": "4aed0ebf-8916-4dc4-ac8d-59cd2c4e5bf7",
   "metadata": {},
   "outputs": [],
   "source": [
    "#You can create a Python program to determine whether a given number is even or odd using the modulo operator (%). Here's a simple program to do that:"
   ]
  },
  {
   "cell_type": "code",
   "execution_count": 14,
   "id": "5e0eaf80-26b2-41e2-8077-cbbf9454b005",
   "metadata": {},
   "outputs": [
    {
     "name": "stdin",
     "output_type": "stream",
     "text": [
      "Enter a number:  2\n"
     ]
    },
    {
     "name": "stdout",
     "output_type": "stream",
     "text": [
      "2 is even.\n"
     ]
    }
   ],
   "source": [
    "# Input a number from the user\n",
    "number = int(input(\"Enter a number: \"))\n",
    "\n",
    "# Check if the number is even or odd\n",
    "if number % 2 == 0:\n",
    "    print(f\"{number} is even.\")\n",
    "else:\n",
    "    print(f\"{number} is odd.\")\n"
   ]
  },
  {
   "cell_type": "markdown",
   "id": "ee5bce40-644d-4da0-9817-d981c05b7b2b",
   "metadata": {},
   "source": [
    "q.7"
   ]
  },
  {
   "cell_type": "code",
   "execution_count": 15,
   "id": "1f395ffa-cef8-4ab7-bf72-c91e71fa2709",
   "metadata": {},
   "outputs": [],
   "source": [
    "#You can create a Python function to calculate the absolute value of a number without using the built-in abs() function by using a simple conditional check. Here's a function that accomplishes this:"
   ]
  },
  {
   "cell_type": "code",
   "execution_count": 16,
   "id": "c789bb72-c685-47a5-b0bf-8fc713d24bc3",
   "metadata": {},
   "outputs": [
    {
     "name": "stdin",
     "output_type": "stream",
     "text": [
      "Enter a number:  20\n"
     ]
    },
    {
     "name": "stdout",
     "output_type": "stream",
     "text": [
      "The absolute value of 20.0 is 20.0.\n"
     ]
    }
   ],
   "source": [
    "def absolute_value(number):\n",
    "    if number < 0:\n",
    "        return -number\n",
    "    else:\n",
    "        return number\n",
    "\n",
    "# Test the function\n",
    "num = float(input(\"Enter a number: \"))\n",
    "result = absolute_value(num)\n",
    "print(f\"The absolute value of {num} is {result}.\")\n"
   ]
  },
  {
   "cell_type": "markdown",
   "id": "3fc53140-24fd-4b81-b03a-f7cd63ae3f12",
   "metadata": {},
   "source": [
    "q.8"
   ]
  },
  {
   "cell_type": "code",
   "execution_count": 17,
   "id": "1855ed84-d00e-47bb-b61f-73fe1606090d",
   "metadata": {},
   "outputs": [],
   "source": [
    "#You can create a Python program to determine the largest of three given numbers using if-else statements. Here's an example program:"
   ]
  },
  {
   "cell_type": "code",
   "execution_count": 18,
   "id": "c3012814-a01d-43e3-9601-c37df5721b43",
   "metadata": {},
   "outputs": [
    {
     "name": "stdin",
     "output_type": "stream",
     "text": [
      "Enter the first number:  2\n",
      "Enter the second number:  5\n",
      "Enter the third number:  8\n"
     ]
    },
    {
     "name": "stdout",
     "output_type": "stream",
     "text": [
      "The largest number among 2.0, 5.0, and 8.0 is 8.0.\n"
     ]
    }
   ],
   "source": [
    "# Input three numbers from the user\n",
    "num1 = float(input(\"Enter the first number: \"))\n",
    "num2 = float(input(\"Enter the second number: \"))\n",
    "num3 = float(input(\"Enter the third number: \"))\n",
    "\n",
    "# Check which number is the largest\n",
    "if num1 >= num2 and num1 >= num3:\n",
    "    largest = num1\n",
    "elif num2 >= num1 and num2 >= num3:\n",
    "    largest = num2\n",
    "else:\n",
    "    largest = num3\n",
    "\n",
    "# Print the largest number\n",
    "print(f\"The largest number among {num1}, {num2}, and {num3} is {largest}.\")\n"
   ]
  },
  {
   "cell_type": "markdown",
   "id": "f1ffb627-d9fa-4ae8-bafe-ac5f72201d68",
   "metadata": {},
   "source": [
    "q.9"
   ]
  },
  {
   "cell_type": "code",
   "execution_count": 19,
   "id": "a2f719a2-e7fb-42c2-87c0-d5809795a990",
   "metadata": {},
   "outputs": [],
   "source": [
    "#You can create a Python program to check if a given string is a palindrome. A palindrome is a word, phrase, or sequence of characters that reads the same forward and backward. Here's a program to determine if a string is a palindrome:"
   ]
  },
  {
   "cell_type": "code",
   "execution_count": 20,
   "id": "3d1dcb96-3be7-4079-8108-9a9be273a422",
   "metadata": {},
   "outputs": [
    {
     "name": "stdin",
     "output_type": "stream",
     "text": [
      "Enter a string:  mohit\n"
     ]
    },
    {
     "name": "stdout",
     "output_type": "stream",
     "text": [
      "'mohit' is not a palindrome.\n"
     ]
    }
   ],
   "source": [
    "def is_palindrome(string):\n",
    "    # Remove spaces and convert to lowercase for case-insensitive comparison\n",
    "    cleaned_string = string.replace(\" \", \"\").lower()\n",
    "    \n",
    "    # Check if the cleaned string is the same when reversed\n",
    "    return cleaned_string == cleaned_string[::-1]\n",
    "\n",
    "# Input a string from the user\n",
    "input_string = input(\"Enter a string: \")\n",
    "\n",
    "# Check if it's a palindrome\n",
    "if is_palindrome(input_string):\n",
    "    print(f\"'{input_string}' is a palindrome.\")\n",
    "else:\n",
    "    print(f\"'{input_string}' is not a palindrome.\")\n"
   ]
  },
  {
   "cell_type": "markdown",
   "id": "6d1543fc-2a67-48fe-b036-c03ae0421355",
   "metadata": {},
   "source": [
    "q.10"
   ]
  },
  {
   "cell_type": "code",
   "execution_count": 21,
   "id": "7293a68c-b84c-460a-ae3f-022e7e40fe97",
   "metadata": {},
   "outputs": [],
   "source": [
    "#You can create a Python program to calculate the grade based on a student's score using conditional statements. Here's a basic example:\n"
   ]
  },
  {
   "cell_type": "code",
   "execution_count": 22,
   "id": "d4d11b7c-5d58-49a6-8287-126dfc69e9a3",
   "metadata": {},
   "outputs": [
    {
     "name": "stdin",
     "output_type": "stream",
     "text": [
      "Enter the student's score:  80\n"
     ]
    },
    {
     "name": "stdout",
     "output_type": "stream",
     "text": [
      "The student's grade is: B\n"
     ]
    }
   ],
   "source": [
    "# Input the student's score\n",
    "score = float(input(\"Enter the student's score: \"))\n",
    "\n",
    "# Check the score and determine the grade\n",
    "if score >= 90:\n",
    "    grade = 'A'\n",
    "elif score >= 80:\n",
    "    grade = 'B'\n",
    "elif score >= 70:\n",
    "    grade = 'C'\n",
    "elif score >= 60:\n",
    "    grade = 'D'\n",
    "else:\n",
    "    grade = 'F'\n",
    "\n",
    "# Print the grade\n",
    "print(f\"The student's grade is: {grade}\")\n"
   ]
  },
  {
   "cell_type": "code",
   "execution_count": 23,
   "id": "4b6f51b2-e592-4af9-b681-df5ab6a6369b",
   "metadata": {},
   "outputs": [],
   "source": [
    "#Nested If-Else Statements:"
   ]
  },
  {
   "cell_type": "markdown",
   "id": "91705031-3ed8-483d-a5f5-462b09ae63a6",
   "metadata": {},
   "source": [
    "q.11"
   ]
  },
  {
   "cell_type": "code",
   "execution_count": 24,
   "id": "3052d3b2-f25b-41fd-abab-d04aa18d0027",
   "metadata": {},
   "outputs": [],
   "source": [
    "#You can create a Python program to find the largest among three numbers using nested if-else statements. Here's an example program:"
   ]
  },
  {
   "cell_type": "code",
   "execution_count": 25,
   "id": "f09ebee2-f1e2-4f86-8be9-dc24895dcdf4",
   "metadata": {},
   "outputs": [
    {
     "name": "stdin",
     "output_type": "stream",
     "text": [
      "Enter the first number:  2\n",
      "Enter the second number:  5\n",
      "Enter the third number:  8\n"
     ]
    },
    {
     "name": "stdout",
     "output_type": "stream",
     "text": [
      "The largest number among 2.0, 5.0, and 8.0 is 8.0.\n"
     ]
    }
   ],
   "source": [
    "# Input three numbers from the user\n",
    "num1 = float(input(\"Enter the first number: \"))\n",
    "num2 = float(input(\"Enter the second number: \"))\n",
    "num3 = float(input(\"Enter the third number: \"))\n",
    "\n",
    "# Check which number is the largest using nested if-else statements\n",
    "if num1 >= num2:\n",
    "    if num1 >= num3:\n",
    "        largest = num1\n",
    "    else:\n",
    "        largest = num3\n",
    "else:\n",
    "    if num2 >= num3:\n",
    "        largest = num2\n",
    "    else:\n",
    "        largest = num3\n",
    "\n",
    "# Print the largest number\n",
    "print(f\"The largest number among {num1}, {num2}, and {num3} is {largest}.\")\n"
   ]
  },
  {
   "cell_type": "markdown",
   "id": "ecb8a76e-1801-4882-b690-42b33c0775f3",
   "metadata": {},
   "source": [
    "q.12"
   ]
  },
  {
   "cell_type": "code",
   "execution_count": 26,
   "id": "526b27f8-7727-4ef6-9dff-8f01f1a9826d",
   "metadata": {},
   "outputs": [],
   "source": [
    "#You can create a Python program to determine if a triangle is equilateral, isosceles, or scalene based on its side lengths. Here's a program to do that:"
   ]
  },
  {
   "cell_type": "code",
   "execution_count": 28,
   "id": "8aa7f0d0-d2b0-4d05-b531-08cd59e928cc",
   "metadata": {},
   "outputs": [
    {
     "name": "stdin",
     "output_type": "stream",
     "text": [
      "Enter the length of the first side:  4\n",
      "Enter the length of the second side:  5\n",
      "Enter the length of the third side:  8\n"
     ]
    },
    {
     "name": "stdout",
     "output_type": "stream",
     "text": [
      "The triangle with side lengths 4.0, 5.0, and 8.0 is a Scalene triangle.\n"
     ]
    }
   ],
   "source": [
    "# Input the lengths of the three sides of the triangle\n",
    "side1 = float(input(\"Enter the length of the first side: \"))\n",
    "side2 = float(input(\"Enter the length of the second side: \"))\n",
    "side3 = float(input(\"Enter the length of the third side: \"))\n",
    "\n",
    "# Check the type of triangle\n",
    "if side1 == side2 == side3:\n",
    "    triangle_type = \"Equilateral\"\n",
    "elif side1 == side2 or side1 == side3 or side2 == side3:\n",
    "    triangle_type = \"Isosceles\"\n",
    "else:\n",
    "    triangle_type = \"Scalene\"\n",
    "\n",
    "# Print the type of triangle\n",
    "print(f\"The triangle with side lengths {side1}, {side2}, and {side3} is a {triangle_type} triangle.\")\n"
   ]
  },
  {
   "cell_type": "markdown",
   "id": "db3f0e94-f169-4c48-95c9-272b9921671c",
   "metadata": {},
   "source": [
    "q.13"
   ]
  },
  {
   "cell_type": "code",
   "execution_count": 29,
   "id": "adb255e3-fab4-4d74-9c60-aca4908bdf54",
   "metadata": {},
   "outputs": [],
   "source": [
    "#You can create a Python program to check if a year is a leap year and if it's a century year (a year that ends with \"00\"). Here's a program that does both checks:"
   ]
  },
  {
   "cell_type": "code",
   "execution_count": 30,
   "id": "c247ea4d-a60c-49a5-87b7-60de28955f2b",
   "metadata": {},
   "outputs": [
    {
     "name": "stdin",
     "output_type": "stream",
     "text": [
      "Enter a year:  1992\n"
     ]
    },
    {
     "name": "stdout",
     "output_type": "stream",
     "text": [
      "1992 is a leap year but not a century year.\n"
     ]
    }
   ],
   "source": [
    "# Input a year from the user\n",
    "year = int(input(\"Enter a year: \"))\n",
    "\n",
    "# Check if it's a leap year\n",
    "is_leap_year = (year % 4 == 0 and year % 100 != 0) or (year % 400 == 0)\n",
    "\n",
    "# Check if it's a century year\n",
    "is_century_year = year % 100 == 0\n",
    "\n",
    "# Print the results\n",
    "if is_leap_year:\n",
    "    if is_century_year:\n",
    "        print(f\"{year} is a leap year and a century year.\")\n",
    "    else:\n",
    "        print(f\"{year} is a leap year but not a century year.\")\n",
    "else:\n",
    "    if is_century_year:\n",
    "        print(f\"{year} is not a leap year but a century year.\")\n",
    "    else:\n",
    "        print(f\"{year} is neither a leap year nor a century year.\")\n"
   ]
  },
  {
   "cell_type": "markdown",
   "id": "be8124ca-82fa-4c59-8b72-7430d0d8de4d",
   "metadata": {},
   "source": [
    "q.14"
   ]
  },
  {
   "cell_type": "code",
   "execution_count": 31,
   "id": "4d48b849-28e8-4992-8ccc-353956b62f92",
   "metadata": {},
   "outputs": [],
   "source": [
    "#You can create a Python script to determine if a number is positive, negative, or zero using conditional statements. Here's a simple script to achieve this:"
   ]
  },
  {
   "cell_type": "code",
   "execution_count": 32,
   "id": "26188188-ea52-4a99-9cdf-a919fb7f878a",
   "metadata": {},
   "outputs": [
    {
     "name": "stdin",
     "output_type": "stream",
     "text": [
      "Enter a number:  5\n"
     ]
    },
    {
     "name": "stdout",
     "output_type": "stream",
     "text": [
      "The number is positive.\n"
     ]
    }
   ],
   "source": [
    "# Input a number from the user\n",
    "num = float(input(\"Enter a number: \"))\n",
    "\n",
    "# Check if the number is positive, negative, or zero\n",
    "if num > 0:\n",
    "    print(\"The number is positive.\")\n",
    "elif num < 0:\n",
    "    print(\"The number is negative.\")\n",
    "else:\n",
    "    print(\"The number is zero.\")\n"
   ]
  },
  {
   "cell_type": "markdown",
   "id": "5bccc906-3d9a-45ba-9c76-b63d93d579c3",
   "metadata": {},
   "source": [
    "q.15"
   ]
  },
  {
   "cell_type": "code",
   "execution_count": 33,
   "id": "d3ed1e5a-0e92-43e4-8afb-1f590627c3a3",
   "metadata": {},
   "outputs": [],
   "source": [
    "#You can create a Python program to check if a person is a teenager (between 13 and 19 years old) using conditional statements. Here's a simple program to do that:"
   ]
  },
  {
   "cell_type": "code",
   "execution_count": 35,
   "id": "69be62d1-79da-4912-9d46-c3c1794bc2bd",
   "metadata": {},
   "outputs": [
    {
     "name": "stdin",
     "output_type": "stream",
     "text": [
      "Enter your age:  30\n"
     ]
    },
    {
     "name": "stdout",
     "output_type": "stream",
     "text": [
      "You are not a teenager.\n"
     ]
    }
   ],
   "source": [
    "# Input the person's age\n",
    "age = int(input(\"Enter your age: \"))\n",
    "\n",
    "# Check if the person is a teenager\n",
    "if age >= 13 and age <= 19:\n",
    "    print(\"You are a teenager.\")\n",
    "else:\n",
    "    print(\"You are not a teenager.\")\n"
   ]
  },
  {
   "cell_type": "markdown",
   "id": "382b66ac-034f-4166-8b1d-d2c02100b6d7",
   "metadata": {},
   "source": [
    "q.16"
   ]
  },
  {
   "cell_type": "code",
   "execution_count": 36,
   "id": "37c71529-f5c8-44c5-9cb9-41ff4f7df998",
   "metadata": {},
   "outputs": [],
   "source": [
    "#You can create a Python program to determine the type of angle (acute, obtuse, or right) based on its measure. Here's a program to do that:"
   ]
  },
  {
   "cell_type": "code",
   "execution_count": 37,
   "id": "6d4681e4-2425-4706-85b1-78c97c0bc2d3",
   "metadata": {},
   "outputs": [
    {
     "name": "stdin",
     "output_type": "stream",
     "text": [
      "Enter the angle measure in degrees:  87\n"
     ]
    },
    {
     "name": "stdout",
     "output_type": "stream",
     "text": [
      "The angle with measure 87.0 degrees is a Acute angle.\n"
     ]
    }
   ],
   "source": [
    "# Input the angle measure from the user\n",
    "angle = float(input(\"Enter the angle measure in degrees: \"))\n",
    "\n",
    "# Check the type of angle\n",
    "if angle < 90:\n",
    "    angle_type = \"Acute\"\n",
    "elif angle == 90:\n",
    "    angle_type = \"Right\"\n",
    "else:\n",
    "    angle_type = \"Obtuse\"\n",
    "\n",
    "# Print the type of angle\n",
    "print(f\"The angle with measure {angle} degrees is a {angle_type} angle.\")\n"
   ]
  },
  {
   "cell_type": "markdown",
   "id": "b6f7e996-4e90-4760-b650-f0845f84ddc9",
   "metadata": {},
   "source": [
    "q.17"
   ]
  },
  {
   "cell_type": "code",
   "execution_count": 38,
   "id": "fd561b51-54cd-43a5-877c-a7bf665b4dff",
   "metadata": {},
   "outputs": [],
   "source": [
    "#You can create a Python program to calculate the roots of a quadratic equation using the quadratic formula. The quadratic equation is in the form: ax^2 + bx + c = 0, where a, b, and c are coefficients. Here's a program to calculate the roots:"
   ]
  },
  {
   "cell_type": "code",
   "execution_count": 39,
   "id": "032c2fb5-8ca3-4a84-9bc2-9ec7f2ad531e",
   "metadata": {},
   "outputs": [
    {
     "name": "stdin",
     "output_type": "stream",
     "text": [
      "Enter the coefficient a:  5\n",
      "Enter the coefficient b:  9\n",
      "Enter the coefficient c:  8\n"
     ]
    },
    {
     "name": "stdout",
     "output_type": "stream",
     "text": [
      "The roots are complex: (-0.9+0.8888194417315589j) and (-0.9-0.8888194417315589j)\n"
     ]
    }
   ],
   "source": [
    "import math\n",
    "\n",
    "# Input the coefficients a, b, and c from the user\n",
    "a = float(input(\"Enter the coefficient a: \"))\n",
    "b = float(input(\"Enter the coefficient b: \"))\n",
    "c = float(input(\"Enter the coefficient c: \"))\n",
    "\n",
    "# Calculate the discriminant (D) to determine the nature of roots\n",
    "D = b**2 - 4*a*c\n",
    "\n",
    "# Check the nature of roots\n",
    "if D > 0:\n",
    "    # Two distinct real roots\n",
    "    root1 = (-b + math.sqrt(D)) / (2*a)\n",
    "    root2 = (-b - math.sqrt(D)) / (2*a)\n",
    "    print(f\"The roots are real and distinct: {root1} and {root2}\")\n",
    "elif D == 0:\n",
    "    # One real root (repeated)\n",
    "    root = -b / (2*a)\n",
    "    print(f\"The root is real and repeated: {root}\")\n",
    "else:\n",
    "    # Complex roots\n",
    "    real_part = -b / (2*a)\n",
    "    imaginary_part = math.sqrt(-D) / (2*a)\n",
    "    root1 = complex(real_part, imaginary_part)\n",
    "    root2 = complex(real_part, -imaginary_part)\n",
    "    print(f\"The roots are complex: {root1} and {root2}\")\n"
   ]
  },
  {
   "cell_type": "markdown",
   "id": "d0aa36a7-6729-4054-ab11-6927aec28602",
   "metadata": {},
   "source": [
    "q.18"
   ]
  },
  {
   "cell_type": "code",
   "execution_count": 40,
   "id": "ee803dc4-3df0-4cb4-b8e1-ad7cc37ef45a",
   "metadata": {},
   "outputs": [],
   "source": [
    "#You can create a Python program to determine the day of the week based on a user-provided number (1 for Monday, 2 for Tuesday, etc.). Here's a program to do that:"
   ]
  },
  {
   "cell_type": "code",
   "execution_count": 41,
   "id": "3c526955-e8a9-46f1-a762-6f76351a88d0",
   "metadata": {},
   "outputs": [
    {
     "name": "stdin",
     "output_type": "stream",
     "text": [
      "Enter a number (1 for Monday, 2 for Tuesday, etc.):  1\n"
     ]
    },
    {
     "name": "stdout",
     "output_type": "stream",
     "text": [
      "The day corresponding to 1 is Monday.\n"
     ]
    }
   ],
   "source": [
    "# Input a number from the user\n",
    "day_number = int(input(\"Enter a number (1 for Monday, 2 for Tuesday, etc.): \"))\n",
    "\n",
    "# Define a list of day names\n",
    "days_of_week = [\"Monday\", \"Tuesday\", \"Wednesday\", \"Thursday\", \"Friday\", \"Saturday\", \"Sunday\"]\n",
    "\n",
    "# Check if the input number is valid\n",
    "if day_number >= 1 and day_number <= 7:\n",
    "    # Subtract 1 from the input number to access the correct index in the list\n",
    "    day_name = days_of_week[day_number - 1]\n",
    "    print(f\"The day corresponding to {day_number} is {day_name}.\")\n",
    "else:\n",
    "    print(\"Invalid input. Please enter a number between 1 and 7.\")\n"
   ]
  },
  {
   "cell_type": "markdown",
   "id": "4e2548f5-94be-4741-8055-7da9722ec5f3",
   "metadata": {},
   "source": [
    "q.19"
   ]
  },
  {
   "cell_type": "code",
   "execution_count": 42,
   "id": "5b20de3c-ee09-4cfa-aa33-e77b95020c34",
   "metadata": {},
   "outputs": [],
   "source": [
    "#Certainly! You can create a Python program that checks if a year is a leap year and also checks if it is evenly divisible by 400. Here's the program:"
   ]
  },
  {
   "cell_type": "code",
   "execution_count": 43,
   "id": "f6cb1320-7367-4c1f-baf7-85b3144bc9da",
   "metadata": {},
   "outputs": [
    {
     "name": "stdin",
     "output_type": "stream",
     "text": [
      "Enter a year:  1992\n"
     ]
    },
    {
     "name": "stdout",
     "output_type": "stream",
     "text": [
      "1992 is a leap year.\n",
      "1992 is not evenly divisible by 400.\n"
     ]
    }
   ],
   "source": [
    "# Input a year from the user\n",
    "year = int(input(\"Enter a year: \"))\n",
    "\n",
    "# Check if it's a leap year\n",
    "is_leap_year = (year % 4 == 0 and year % 100 != 0) or (year % 400 == 0)\n",
    "\n",
    "# Check if it's evenly divisible by 400\n",
    "is_divisible_by_400 = year % 400 == 0\n",
    "\n",
    "# Print the results\n",
    "if is_leap_year:\n",
    "    print(f\"{year} is a leap year.\")\n",
    "else:\n",
    "    print(f\"{year} is not a leap year.\")\n",
    "\n",
    "if is_divisible_by_400:\n",
    "    print(f\"{year} is evenly divisible by 400.\")\n",
    "else:\n",
    "    print(f\"{year} is not evenly divisible by 400.\")\n"
   ]
  },
  {
   "cell_type": "markdown",
   "id": "126acd4f-e685-4c85-9e4b-420caf0a4250",
   "metadata": {},
   "source": [
    "q.20"
   ]
  },
  {
   "cell_type": "code",
   "execution_count": 44,
   "id": "39e8db9e-8c21-4bf3-9f9e-90d625ae715d",
   "metadata": {},
   "outputs": [],
   "source": [
    "#You can create a Python program to check if a given number is prime or not using nested if-else statements. Here's a program to do that:"
   ]
  },
  {
   "cell_type": "code",
   "execution_count": 45,
   "id": "90a4e523-63d3-4709-bb54-67366637d194",
   "metadata": {},
   "outputs": [
    {
     "name": "stdin",
     "output_type": "stream",
     "text": [
      "Enter a number:  5\n"
     ]
    },
    {
     "name": "stdout",
     "output_type": "stream",
     "text": [
      "5 is a prime number.\n"
     ]
    }
   ],
   "source": [
    "# Input a number from the user\n",
    "num = int(input(\"Enter a number: \"))\n",
    "\n",
    "# Check if the number is prime\n",
    "if num > 1:\n",
    "    is_prime = True  # Assume the number is prime initially\n",
    "    # Check for factors from 2 to the square root of the number\n",
    "    for i in range(2, int(num ** 0.5) + 1):\n",
    "        if num % i == 0:\n",
    "            is_prime = False\n",
    "            break\n",
    "else:\n",
    "    is_prime = False  # Numbers less than or equal to 1 are not prime\n",
    "\n",
    "# Print the result\n",
    "if is_prime:\n",
    "    print(f\"{num} is a prime number.\")\n",
    "else:\n",
    "    print(f\"{num} is not a prime number.\")\n"
   ]
  },
  {
   "cell_type": "code",
   "execution_count": 46,
   "id": "600fbf92-400f-4817-b4b6-b3ea92cb5ee2",
   "metadata": {},
   "outputs": [],
   "source": [
    "#Elif Statements:"
   ]
  },
  {
   "cell_type": "markdown",
   "id": "6c94b003-cbee-4d9f-b280-0813dd7e7434",
   "metadata": {},
   "source": [
    "q.21"
   ]
  },
  {
   "cell_type": "code",
   "execution_count": 47,
   "id": "1d2f6c5b-f6db-4e84-9d10-3636175bc4c3",
   "metadata": {},
   "outputs": [],
   "source": [
    "#You can create a Python program to assign grades based on different ranges of scores using elif statements. Here's a program that demonstrates this:"
   ]
  },
  {
   "cell_type": "code",
   "execution_count": 48,
   "id": "884b99ef-3717-4d93-80c5-32b4d0c0bebd",
   "metadata": {},
   "outputs": [
    {
     "name": "stdin",
     "output_type": "stream",
     "text": [
      "Enter the student's score:  75\n"
     ]
    },
    {
     "name": "stdout",
     "output_type": "stream",
     "text": [
      "The student's score is 75.0 and the grade is C.\n"
     ]
    }
   ],
   "source": [
    "# Input the student's score\n",
    "score = float(input(\"Enter the student's score: \"))\n",
    "\n",
    "# Determine the grade based on the score\n",
    "if score >= 90:\n",
    "    grade = 'A'\n",
    "elif score >= 80:\n",
    "    grade = 'B'\n",
    "elif score >= 70:\n",
    "    grade = 'C'\n",
    "elif score >= 60:\n",
    "    grade = 'D'\n",
    "else:\n",
    "    grade = 'F'\n",
    "\n",
    "# Print the grade\n",
    "print(f\"The student's score is {score} and the grade is {grade}.\")\n"
   ]
  },
  {
   "cell_type": "markdown",
   "id": "c84e2559-ef52-49ea-b772-d5dcafa4391e",
   "metadata": {},
   "source": [
    "q.22"
   ]
  },
  {
   "cell_type": "code",
   "execution_count": 49,
   "id": "332cb6aa-d4dd-4e51-9238-ef8e96a73d1e",
   "metadata": {},
   "outputs": [],
   "source": [
    "#You can create a Python program to determine the type of a triangle based on its angles (acute, obtuse, or right). Here's a program to do that:"
   ]
  },
  {
   "cell_type": "code",
   "execution_count": 51,
   "id": "cfa9331b-cc6f-49ae-93a8-3a6b5fea208d",
   "metadata": {},
   "outputs": [
    {
     "name": "stdin",
     "output_type": "stream",
     "text": [
      "Enter the first angle in degrees:  50\n",
      "Enter the second angle in degrees:  60\n",
      "Enter the third angle in degrees:  70\n"
     ]
    },
    {
     "name": "stdout",
     "output_type": "stream",
     "text": [
      "The triangle with angles 50.0, 60.0, and 70.0 degrees is a Acute triangle.\n"
     ]
    }
   ],
   "source": [
    "# Input the three angles of the triangle\n",
    "angle1 = float(input(\"Enter the first angle in degrees: \"))\n",
    "angle2 = float(input(\"Enter the second angle in degrees: \"))\n",
    "angle3 = float(input(\"Enter the third angle in degrees: \"))\n",
    "\n",
    "# Check the type of triangle based on the angles\n",
    "if angle1 + angle2 + angle3 == 180:\n",
    "    if angle1 < 90 and angle2 < 90 and angle3 < 90:\n",
    "        triangle_type = \"Acute\"\n",
    "    elif angle1 == 90 or angle2 == 90 or angle3 == 90:\n",
    "        triangle_type = \"Right\"\n",
    "    else:\n",
    "        triangle_type = \"Obtuse\"\n",
    "else:\n",
    "    triangle_type = \"Invalid\"\n",
    "\n",
    "# Print the type of triangle\n",
    "if triangle_type == \"Invalid\":\n",
    "    print(\"The angles do not form a valid triangle.\")\n",
    "else:\n",
    "    print(f\"The triangle with angles {angle1}, {angle2}, and {angle3} degrees is a {triangle_type} triangle.\")\n"
   ]
  },
  {
   "cell_type": "markdown",
   "id": "2ed86c2f-716a-42ab-bfc6-e122059faa36",
   "metadata": {},
   "source": [
    "q.23"
   ]
  },
  {
   "cell_type": "code",
   "execution_count": 52,
   "id": "b9a5e732-6f44-43a3-8145-8865977e7f8d",
   "metadata": {},
   "outputs": [],
   "source": [
    "#You can create a Python program to categorize a person's BMI (Body Mass Index) into underweight, normal, overweight, or obese using elif statements. Here's a program that does that:"
   ]
  },
  {
   "cell_type": "code",
   "execution_count": 53,
   "id": "13b172eb-8055-4870-bfff-c38e18378b5c",
   "metadata": {},
   "outputs": [
    {
     "name": "stdin",
     "output_type": "stream",
     "text": [
      "Enter weight (kg):  25\n",
      "Enter height (m):  5\n"
     ]
    },
    {
     "name": "stdout",
     "output_type": "stream",
     "text": [
      "The person's BMI is 1.00, which falls into the category: Underweight.\n"
     ]
    }
   ],
   "source": [
    "# Input the person's weight in kilograms and height in meters\n",
    "weight = float(input(\"Enter weight (kg): \"))\n",
    "height = float(input(\"Enter height (m): \"))\n",
    "\n",
    "# Calculate BMI\n",
    "bmi = weight / (height ** 2)\n",
    "\n",
    "# Determine the BMI category\n",
    "if bmi < 18.5:\n",
    "    category = \"Underweight\"\n",
    "elif 18.5 <= bmi < 24.9:\n",
    "    category = \"Normal (Healthy Weight)\"\n",
    "elif 25 <= bmi < 29.9:\n",
    "    category = \"Overweight\"\n",
    "else:\n",
    "    category = \"Obese\"\n",
    "\n",
    "# Print the BMI category\n",
    "print(f\"The person's BMI is {bmi:.2f}, which falls into the category: {category}.\")\n"
   ]
  },
  {
   "cell_type": "markdown",
   "id": "d67dc02f-7e8a-4925-9395-6ecdd73ad63f",
   "metadata": {},
   "source": [
    "q.24"
   ]
  },
  {
   "cell_type": "code",
   "execution_count": 54,
   "id": "7facc573-d805-49cb-8469-523af0b52251",
   "metadata": {},
   "outputs": [],
   "source": [
    "#You can create a Python program to determine whether a given number is positive, negative, or zero using elif statements. Here's a program to do that:"
   ]
  },
  {
   "cell_type": "code",
   "execution_count": 55,
   "id": "89097537-7c3a-49a0-9794-77d7e9403c8b",
   "metadata": {},
   "outputs": [
    {
     "name": "stdin",
     "output_type": "stream",
     "text": [
      "Enter a number:  8\n"
     ]
    },
    {
     "name": "stdout",
     "output_type": "stream",
     "text": [
      "The number is positive.\n"
     ]
    }
   ],
   "source": [
    "# Input a number from the user\n",
    "num = float(input(\"Enter a number: \"))\n",
    "\n",
    "# Determine if the number is positive, negative, or zero\n",
    "if num > 0:\n",
    "    print(\"The number is positive.\")\n",
    "elif num < 0:\n",
    "    print(\"The number is negative.\")\n",
    "else:\n",
    "    print(\"The number is zero.\")\n"
   ]
  },
  {
   "cell_type": "markdown",
   "id": "e3bbbe79-ef6b-43e1-8932-cb5a5f1ffc42",
   "metadata": {},
   "source": [
    "q.25"
   ]
  },
  {
   "cell_type": "code",
   "execution_count": 56,
   "id": "e4c5b05e-b5fb-40d6-b83a-9db74aff06ee",
   "metadata": {},
   "outputs": [],
   "source": [
    "#You can create a Python script to determine the type of a character (uppercase, lowercase, or special) using elif statements. Here's a script to do that:"
   ]
  },
  {
   "cell_type": "code",
   "execution_count": 57,
   "id": "1ba05c0f-61f7-49f7-b291-1ea7134da2c7",
   "metadata": {},
   "outputs": [
    {
     "name": "stdin",
     "output_type": "stream",
     "text": [
      "Enter a character:  m\n"
     ]
    },
    {
     "name": "stdout",
     "output_type": "stream",
     "text": [
      "The character 'm' is a Lowercase character.\n"
     ]
    }
   ],
   "source": [
    "# Input a character from the user\n",
    "char = input(\"Enter a character: \")\n",
    "\n",
    "# Check the type of character\n",
    "if char.isupper():\n",
    "    char_type = \"Uppercase\"\n",
    "elif char.islower():\n",
    "    char_type = \"Lowercase\"\n",
    "else:\n",
    "    char_type = \"Special Character\"\n",
    "\n",
    "# Print the type of character\n",
    "print(f\"The character '{char}' is a {char_type} character.\")\n"
   ]
  },
  {
   "cell_type": "markdown",
   "id": "68a0afa9-8bf0-42aa-bcf9-50864824ff17",
   "metadata": {},
   "source": [
    "q.26"
   ]
  },
  {
   "cell_type": "code",
   "execution_count": 58,
   "id": "2de8bf8a-5d81-44f9-9c9b-497e1e1b4d13",
   "metadata": {},
   "outputs": [],
   "source": [
    "#You can create a Python program to calculate the discounted price based on different purchase amounts using elif statements. Here's a program that does that:"
   ]
  },
  {
   "cell_type": "code",
   "execution_count": 59,
   "id": "dcfaf0d5-1d8e-4095-b82d-04894842d03a",
   "metadata": {},
   "outputs": [
    {
     "name": "stdin",
     "output_type": "stream",
     "text": [
      "Enter the purchase amount:  654\n"
     ]
    },
    {
     "name": "stdout",
     "output_type": "stream",
     "text": [
      "The discounted price for a purchase of $654.00 is $621.30.\n"
     ]
    }
   ],
   "source": [
    "# Input the purchase amount from the user\n",
    "purchase_amount = float(input(\"Enter the purchase amount: \"))\n",
    "\n",
    "# Initialize variables for discounts\n",
    "discount = 0.0\n",
    "\n",
    "# Determine the discount based on the purchase amount\n",
    "if purchase_amount >= 1000:\n",
    "    discount = 0.1  # 10% discount for purchases of $1000 or more\n",
    "elif purchase_amount >= 500:\n",
    "    discount = 0.05  # 5% discount for purchases between $500 and $999\n",
    "\n",
    "# Calculate the discounted price\n",
    "discounted_price = purchase_amount - (purchase_amount * discount)\n",
    "\n",
    "# Print the discounted price\n",
    "print(f\"The discounted price for a purchase of ${purchase_amount:.2f} is ${discounted_price:.2f}.\")\n"
   ]
  },
  {
   "cell_type": "markdown",
   "id": "69c41656-f01e-4857-aef4-692ee03b16e9",
   "metadata": {},
   "source": [
    "q.27"
   ]
  },
  {
   "cell_type": "code",
   "execution_count": 60,
   "id": "6c081cd6-a3bd-429f-89b0-88b2503151bb",
   "metadata": {},
   "outputs": [],
   "source": [
    "#You can create a Python program to calculate the electricity bill based on different consumption slabs using elif statements. Here's a program that does that:"
   ]
  },
  {
   "cell_type": "code",
   "execution_count": 61,
   "id": "c3bd9673-562c-43e7-8850-6832bc65facb",
   "metadata": {},
   "outputs": [
    {
     "name": "stdin",
     "output_type": "stream",
     "text": [
      "Enter the electricity consumption in kWh:  54\n"
     ]
    },
    {
     "name": "stdout",
     "output_type": "stream",
     "text": [
      "The electricity bill for 54.00 kWh consumption is $28.00.\n"
     ]
    }
   ],
   "source": [
    "# Input the electricity consumption in kilowatt-hours (kWh) from the user\n",
    "consumption = float(input(\"Enter the electricity consumption in kWh: \"))\n",
    "\n",
    "# Initialize variables for the bill and rate\n",
    "bill = 0.0\n",
    "rate = 0.0\n",
    "\n",
    "# Determine the rate and calculate the bill based on consumption slabs\n",
    "if consumption <= 50:\n",
    "    rate = 0.5  # Rate for the first 50 kWh\n",
    "    bill = consumption * rate\n",
    "elif consumption <= 100:\n",
    "    rate = 0.75  # Rate for the next 51-100 kWh\n",
    "    bill = 50 * 0.5 + (consumption - 50) * rate\n",
    "elif consumption <= 200:\n",
    "    rate = 1.2  # Rate for the next 101-200 kWh\n",
    "    bill = 50 * 0.5 + 50 * 0.75 + (consumption - 100) * rate\n",
    "else:\n",
    "    rate = 1.5  # Rate for consumption over 200 kWh\n",
    "    bill = 50 * 0.5 + 50 * 0.75 + 100 * 1.2 + (consumption - 200) * rate\n",
    "\n",
    "# Print the electricity bill\n",
    "print(f\"The electricity bill for {consumption:.2f} kWh consumption is ${bill:.2f}.\")\n"
   ]
  },
  {
   "cell_type": "markdown",
   "id": "27908d27-52db-4d2b-bb91-18bb32ece876",
   "metadata": {},
   "source": [
    "q.28"
   ]
  },
  {
   "cell_type": "code",
   "execution_count": 62,
   "id": "d733085d-2ce5-45b1-b1dc-e6bc7711d2cb",
   "metadata": {},
   "outputs": [],
   "source": [
    "#You can create a Python program to determine the type of quadrilateral based on its angles and sides using elif statements. Here's a program that does that:"
   ]
  },
  {
   "cell_type": "code",
   "execution_count": 63,
   "id": "b0d5a02a-2743-47a9-a1c5-84643d6bf538",
   "metadata": {},
   "outputs": [
    {
     "name": "stdin",
     "output_type": "stream",
     "text": [
      "Enter the first angle in degrees:  65\n",
      "Enter the second angle in degrees:  35\n",
      "Enter the third angle in degrees:  80\n",
      "Enter the fourth angle in degrees:  180\n",
      "Enter the length of the first side:  5\n",
      "Enter the length of the second side:  8\n",
      "Enter the length of the third side:  9\n",
      "Enter the length of the fourth side:  10\n"
     ]
    },
    {
     "name": "stdout",
     "output_type": "stream",
     "text": [
      "The quadrilateral with angles 65.0, 35.0, 80.0, and 180.0 degrees and sides 5.0, 8.0, 9.0, and 10.0 is a Quadrilateral.\n"
     ]
    }
   ],
   "source": [
    "# Input the angles and sides of the quadrilateral\n",
    "angle1 = float(input(\"Enter the first angle in degrees: \"))\n",
    "angle2 = float(input(\"Enter the second angle in degrees: \"))\n",
    "angle3 = float(input(\"Enter the third angle in degrees: \"))\n",
    "angle4 = float(input(\"Enter the fourth angle in degrees: \"))\n",
    "side1 = float(input(\"Enter the length of the first side: \"))\n",
    "side2 = float(input(\"Enter the length of the second side: \"))\n",
    "side3 = float(input(\"Enter the length of the third side: \"))\n",
    "side4 = float(input(\"Enter the length of the fourth side: \"))\n",
    "\n",
    "# Check the type of quadrilateral\n",
    "if angle1 + angle2 + angle3 + angle4 == 360:\n",
    "    if side1 == side2 == side3 == side4:\n",
    "        if angle1 == angle2 == angle3 == angle4:\n",
    "            quadrilateral_type = \"Square\"\n",
    "        else:\n",
    "            quadrilateral_type = \"Rectangle\"\n",
    "    elif side1 == side3 and side2 == side4:\n",
    "        if angle1 == angle2 == angle3 == angle4:\n",
    "            quadrilateral_type = \"Rhombus\"\n",
    "        else:\n",
    "            quadrilateral_type = \"Parallelogram\"\n",
    "    else:\n",
    "        quadrilateral_type = \"Quadrilateral\"\n",
    "else:\n",
    "    quadrilateral_type = \"Invalid\"\n",
    "\n",
    "# Print the type of quadrilateral\n",
    "if quadrilateral_type == \"Invalid\":\n",
    "    print(\"The angles and sides do not form a valid quadrilateral.\")\n",
    "else:\n",
    "    print(f\"The quadrilateral with angles {angle1}, {angle2}, {angle3}, and {angle4} degrees and sides {side1}, {side2}, {side3}, and {side4} is a {quadrilateral_type}.\")\n"
   ]
  },
  {
   "cell_type": "markdown",
   "id": "23b94f5d-cc64-435e-9c01-6d9c15f8a042",
   "metadata": {},
   "source": [
    "q.29"
   ]
  },
  {
   "cell_type": "code",
   "execution_count": 64,
   "id": "b490ced4-3b8c-48ac-b742-cba93dcd4195",
   "metadata": {},
   "outputs": [],
   "source": [
    "#You can create a Python script to determine the season based on a user-provided month using elif statements. Here's a script that does that:"
   ]
  },
  {
   "cell_type": "code",
   "execution_count": 65,
   "id": "b3ab971b-2140-4067-8e50-34f27d6c0380",
   "metadata": {},
   "outputs": [
    {
     "name": "stdin",
     "output_type": "stream",
     "text": [
      "Enter a month (e.g., January, February, etc.):  january\n"
     ]
    },
    {
     "name": "stdout",
     "output_type": "stream",
     "text": [
      "The season for January is Winter.\n"
     ]
    }
   ],
   "source": [
    "# Input the month from the user\n",
    "month = input(\"Enter a month (e.g., January, February, etc.): \")\n",
    "\n",
    "# Convert the month to lowercase to make the comparison case-insensitive\n",
    "month = month.lower()\n",
    "\n",
    "# Determine the season based on the month\n",
    "if month in (\"december\", \"january\", \"february\"):\n",
    "    season = \"Winter\"\n",
    "elif month in (\"march\", \"april\", \"may\"):\n",
    "    season = \"Spring\"\n",
    "elif month in (\"june\", \"july\", \"august\"):\n",
    "    season = \"Summer\"\n",
    "elif month in (\"september\", \"october\", \"november\"):\n",
    "    season = \"Fall (Autumn)\"\n",
    "else:\n",
    "    season = \"Invalid Month\"\n",
    "\n",
    "# Print the season\n",
    "print(f\"The season for {month.capitalize()} is {season}.\")\n"
   ]
  },
  {
   "cell_type": "markdown",
   "id": "d793e979-7503-435e-b2c8-8a1bcfa920c5",
   "metadata": {},
   "source": [
    "q.30"
   ]
  },
  {
   "cell_type": "code",
   "execution_count": 66,
   "id": "72e9278c-1113-4963-85a2-c6cf27b945e9",
   "metadata": {},
   "outputs": [],
   "source": [
    "#You can create a Python program to determine the type of year (leap or common) and the number of days in a month (30 or 31 days) using elif statements. Here's a program that does that:\n",
    "\n"
   ]
  },
  {
   "cell_type": "code",
   "execution_count": 67,
   "id": "cfa7e92b-6877-4f21-a442-c5ff2c95f4fc",
   "metadata": {},
   "outputs": [
    {
     "name": "stdin",
     "output_type": "stream",
     "text": [
      "Enter a year:  1987\n",
      "Enter a month (1-12):  5\n"
     ]
    },
    {
     "name": "stdout",
     "output_type": "stream",
     "text": [
      "The year 1987 is a Common year.\n",
      "The month 5 has 31 days.\n"
     ]
    }
   ],
   "source": [
    "# Input a year and month from the user\n",
    "year = int(input(\"Enter a year: \"))\n",
    "month = int(input(\"Enter a month (1-12): \"))\n",
    "\n",
    "# Check if it's a leap year\n",
    "is_leap_year = (year % 4 == 0 and year % 100 != 0) or (year % 400 == 0)\n",
    "\n",
    "# Determine the number of days in the month\n",
    "if month >= 1 and month <= 12:\n",
    "    if month in (4, 6, 9, 11):\n",
    "        days_in_month = 30\n",
    "    elif month == 2:\n",
    "        if is_leap_year:\n",
    "            days_in_month = 29\n",
    "        else:\n",
    "            days_in_month = 28\n",
    "    else:\n",
    "        days_in_month = 31\n",
    "else:\n",
    "    days_in_month = -1  # Invalid month\n",
    "\n",
    "# Print the results\n",
    "if days_in_month == -1:\n",
    "    print(\"Invalid month. Please enter a valid month (1-12).\")\n",
    "else:\n",
    "    if is_leap_year:\n",
    "        year_type = \"Leap\"\n",
    "    else:\n",
    "        year_type = \"Common\"\n",
    "    \n",
    "    print(f\"The year {year} is a {year_type} year.\")\n",
    "    print(f\"The month {month} has {days_in_month} days.\")\n"
   ]
  },
  {
   "cell_type": "code",
   "execution_count": 68,
   "id": "c6465afa-fdb1-4769-873d-3c8eaabf5493",
   "metadata": {},
   "outputs": [],
   "source": [
    "#Basic Level:"
   ]
  },
  {
   "cell_type": "markdown",
   "id": "c1b2c911-80f0-4c13-8759-318b32a53b89",
   "metadata": {},
   "source": [
    "q.1"
   ]
  },
  {
   "cell_type": "code",
   "execution_count": 69,
   "id": "0dbaff30-931f-496c-b2a1-cd64dcee951d",
   "metadata": {},
   "outputs": [],
   "source": [
    "#You can create a simple Python program to check if a given number is positive, negative, or zero using if-elif-else statements. Here's the program:"
   ]
  },
  {
   "cell_type": "code",
   "execution_count": 70,
   "id": "382303bc-d3f0-465d-a4ed-323c5c4db7cf",
   "metadata": {},
   "outputs": [
    {
     "name": "stdin",
     "output_type": "stream",
     "text": [
      "Enter a number:  5\n"
     ]
    },
    {
     "name": "stdout",
     "output_type": "stream",
     "text": [
      "The number is positive.\n"
     ]
    }
   ],
   "source": [
    "# Input a number from the user\n",
    "num = float(input(\"Enter a number: \"))\n",
    "\n",
    "# Check if the number is positive, negative, or zero\n",
    "if num > 0:\n",
    "    print(\"The number is positive.\")\n",
    "elif num < 0:\n",
    "    print(\"The number is negative.\")\n",
    "else:\n",
    "    print(\"The number is zero.\")\n"
   ]
  },
  {
   "cell_type": "markdown",
   "id": "5872cf00-3fcf-4cee-a6ea-9d9139ec3841",
   "metadata": {},
   "source": [
    "q.2"
   ]
  },
  {
   "cell_type": "code",
   "execution_count": 71,
   "id": "f87d2757-584f-4109-9e39-ed310eba6b87",
   "metadata": {},
   "outputs": [],
   "source": [
    "#You can create a Python program to determine if a person is eligible to vote based on their age. In many countries, the voting age is typically 18 years or older. Here's a program that checks a person's age and eligibility to vote:"
   ]
  },
  {
   "cell_type": "code",
   "execution_count": 72,
   "id": "5adb89eb-97e1-40f8-835b-61cd979b0a38",
   "metadata": {},
   "outputs": [
    {
     "name": "stdin",
     "output_type": "stream",
     "text": [
      "Enter your age:  86\n"
     ]
    },
    {
     "name": "stdout",
     "output_type": "stream",
     "text": [
      "You are eligible to vote.\n"
     ]
    }
   ],
   "source": [
    "# Input the person's age\n",
    "age = int(input(\"Enter your age: \"))\n",
    "\n",
    "# Check if the person is eligible to vote\n",
    "if age >= 18:\n",
    "    print(\"You are eligible to vote.\")\n",
    "else:\n",
    "    print(\"You are not eligible to vote yet.\")\n"
   ]
  },
  {
   "cell_type": "markdown",
   "id": "549d3849-1b94-49de-9a1f-d959bce16d59",
   "metadata": {},
   "source": [
    "q.3"
   ]
  },
  {
   "cell_type": "code",
   "execution_count": 73,
   "id": "4785d28b-9474-49d3-abf0-94a2c4b13668",
   "metadata": {},
   "outputs": [],
   "source": [
    "#You can create a Python program to find the maximum of two given numbers using conditional statements (if-else). Here's a simple program to do that:"
   ]
  },
  {
   "cell_type": "code",
   "execution_count": 74,
   "id": "b2aaae94-c443-4391-9d81-eaca5b3518db",
   "metadata": {},
   "outputs": [
    {
     "name": "stdin",
     "output_type": "stream",
     "text": [
      "Enter the first number:  98\n",
      "Enter the second number:  55\n"
     ]
    },
    {
     "name": "stdout",
     "output_type": "stream",
     "text": [
      "The maximum number between 98.0 and 55.0 is 98.0.\n"
     ]
    }
   ],
   "source": [
    "# Input two numbers from the user\n",
    "num1 = float(input(\"Enter the first number: \"))\n",
    "num2 = float(input(\"Enter the second number: \"))\n",
    "\n",
    "# Find the maximum number using conditional statements\n",
    "if num1 > num2:\n",
    "    max_num = num1\n",
    "else:\n",
    "    max_num = num2\n",
    "\n",
    "# Print the maximum number\n",
    "print(f\"The maximum number between {num1} and {num2} is {max_num}.\")\n"
   ]
  },
  {
   "cell_type": "markdown",
   "id": "37ba5061-8728-4fc4-93c7-68570a2be87e",
   "metadata": {},
   "source": [
    "q.4"
   ]
  },
  {
   "cell_type": "code",
   "execution_count": 75,
   "id": "c6e9987b-b628-4660-872d-1a4f5b0955c3",
   "metadata": {},
   "outputs": [],
   "source": [
    "#You can create a Python program to calculate the grade of a student based on their exam score. In this example, I'll use a standard grading scale with letter grades. Here's a simple program to do that:"
   ]
  },
  {
   "cell_type": "code",
   "execution_count": 76,
   "id": "856ba760-244c-45a5-9f5e-8bfe6e029520",
   "metadata": {},
   "outputs": [
    {
     "name": "stdin",
     "output_type": "stream",
     "text": [
      "Enter the exam score (out of 100):  90\n"
     ]
    },
    {
     "name": "stdout",
     "output_type": "stream",
     "text": [
      "The student's score is 90.00, and the grade is A.\n"
     ]
    }
   ],
   "source": [
    "# Input the exam score from the user\n",
    "score = float(input(\"Enter the exam score (out of 100): \"))\n",
    "\n",
    "# Determine the grade based on the score\n",
    "if score >= 90:\n",
    "    grade = \"A\"\n",
    "elif score >= 80:\n",
    "    grade = \"B\"\n",
    "elif score >= 70:\n",
    "    grade = \"C\"\n",
    "elif score >= 60:\n",
    "    grade = \"D\"\n",
    "else:\n",
    "    grade = \"F\"\n",
    "\n",
    "# Print the grade\n",
    "print(f\"The student's score is {score:.2f}, and the grade is {grade}.\")\n"
   ]
  },
  {
   "cell_type": "markdown",
   "id": "61c97786-7a67-4870-9cae-85f1c2c44212",
   "metadata": {},
   "source": [
    "q.5"
   ]
  },
  {
   "cell_type": "code",
   "execution_count": 77,
   "id": "a95922b0-5950-4123-82d9-4989a09d632d",
   "metadata": {},
   "outputs": [],
   "source": [
    "#You can create a Python program to check if a year is a leap year or not. Leap years are those that are divisible by 4 but not divisible by 100 unless they are divisible by 400. Here's a program to do that:"
   ]
  },
  {
   "cell_type": "code",
   "execution_count": 78,
   "id": "50e3566c-682c-4088-afc7-502bb06a60e5",
   "metadata": {},
   "outputs": [
    {
     "name": "stdin",
     "output_type": "stream",
     "text": [
      "Enter a year:  1884\n"
     ]
    },
    {
     "name": "stdout",
     "output_type": "stream",
     "text": [
      "1884 is a leap year.\n"
     ]
    }
   ],
   "source": [
    "# Input a year from the user\n",
    "year = int(input(\"Enter a year: \"))\n",
    "\n",
    "# Check if it's a leap year\n",
    "if (year % 4 == 0 and year % 100 != 0) or (year % 400 == 0):\n",
    "    print(f\"{year} is a leap year.\")\n",
    "else:\n",
    "    print(f\"{year} is not a leap year.\")\n"
   ]
  },
  {
   "cell_type": "markdown",
   "id": "945becc0-623d-459c-824b-3edac2745c86",
   "metadata": {},
   "source": [
    "q.6"
   ]
  },
  {
   "cell_type": "code",
   "execution_count": 79,
   "id": "870e7314-1c0f-4e19-8d28-0c53dde7bfc8",
   "metadata": {},
   "outputs": [],
   "source": [
    "#You can create a Python program to classify a triangle based on its sides' lengths. In this program, we'll classify triangles into three types: equilateral, isosceles, and scalene. Here's a program that does that:"
   ]
  },
  {
   "cell_type": "code",
   "execution_count": 80,
   "id": "364ab8ef-5b18-4ebf-9b06-0961f564cc4d",
   "metadata": {},
   "outputs": [
    {
     "name": "stdin",
     "output_type": "stream",
     "text": [
      "Enter the length of the first side:  8\n",
      "Enter the length of the second side:  9\n",
      "Enter the length of the third side:  7\n"
     ]
    },
    {
     "name": "stdout",
     "output_type": "stream",
     "text": [
      "The triangle with side lengths 8.0, 9.0, and 7.0 is a Scalene triangle.\n"
     ]
    }
   ],
   "source": [
    "# Input the lengths of the three sides of the triangle\n",
    "side1 = float(input(\"Enter the length of the first side: \"))\n",
    "side2 = float(input(\"Enter the length of the second side: \"))\n",
    "side3 = float(input(\"Enter the length of the third side: \"))\n",
    "\n",
    "# Check the type of triangle based on side lengths\n",
    "if side1 == side2 == side3:\n",
    "    triangle_type = \"Equilateral\"\n",
    "elif side1 == side2 or side1 == side3 or side2 == side3:\n",
    "    triangle_type = \"Isosceles\"\n",
    "else:\n",
    "    triangle_type = \"Scalene\"\n",
    "\n",
    "# Print the type of triangle\n",
    "print(f\"The triangle with side lengths {side1}, {side2}, and {side3} is a {triangle_type} triangle.\")\n"
   ]
  },
  {
   "cell_type": "markdown",
   "id": "0b40bb9f-0b51-4c50-a6b5-ad707eb4eba6",
   "metadata": {},
   "source": [
    "q.7"
   ]
  },
  {
   "cell_type": "code",
   "execution_count": 81,
   "id": "8ee6e0d9-dcd1-4129-b97c-146addcf6449",
   "metadata": {},
   "outputs": [],
   "source": [
    "#You can create a Python program to determine the largest of three given numbers using if-else statements. Here's a program that does that:"
   ]
  },
  {
   "cell_type": "code",
   "execution_count": 82,
   "id": "9b01ff4a-50ae-4c2e-935d-c88730c7260b",
   "metadata": {},
   "outputs": [
    {
     "name": "stdin",
     "output_type": "stream",
     "text": [
      "Enter the first number:  25\n",
      "Enter the second number:  65\n",
      "Enter the third number:  47\n"
     ]
    },
    {
     "name": "stdout",
     "output_type": "stream",
     "text": [
      "The largest number among 25.0, 65.0, and 47.0 is 65.0.\n"
     ]
    }
   ],
   "source": [
    "# Input three numbers from the user\n",
    "num1 = float(input(\"Enter the first number: \"))\n",
    "num2 = float(input(\"Enter the second number: \"))\n",
    "num3 = float(input(\"Enter the third number: \"))\n",
    "\n",
    "# Determine the largest number using if-else statements\n",
    "if num1 >= num2 and num1 >= num3:\n",
    "    largest_num = num1\n",
    "elif num2 >= num1 and num2 >= num3:\n",
    "    largest_num = num2\n",
    "else:\n",
    "    largest_num = num3\n",
    "\n",
    "# Print the largest number\n",
    "print(f\"The largest number among {num1}, {num2}, and {num3} is {largest_num}.\")\n"
   ]
  },
  {
   "cell_type": "markdown",
   "id": "6c58edc8-a4f6-4bb1-a5bc-456a12171258",
   "metadata": {},
   "source": [
    "q.8"
   ]
  },
  {
   "cell_type": "code",
   "execution_count": 83,
   "id": "585a6ad3-685c-4a70-80d1-d25c3a5e87f3",
   "metadata": {},
   "outputs": [],
   "source": [
    "#You can create a Python program to check whether a character is a vowel or a consonant. Here's a program that does that:"
   ]
  },
  {
   "cell_type": "code",
   "execution_count": 85,
   "id": "495cf1a9-6668-46e1-ae48-3dc2e8297149",
   "metadata": {},
   "outputs": [
    {
     "name": "stdin",
     "output_type": "stream",
     "text": [
      "Enter a character:  m\n"
     ]
    },
    {
     "name": "stdout",
     "output_type": "stream",
     "text": [
      "m is a consonant.\n"
     ]
    }
   ],
   "source": [
    "# Input a character from the user (assuming a single character)\n",
    "char = input(\"Enter a character: \")\n",
    "\n",
    "# Convert the character to lowercase for case-insensitive comparison\n",
    "char = char.lower()\n",
    "\n",
    "# Check if the input is a single alphabetic character\n",
    "if len(char) == 1 and char.isalpha():\n",
    "    # Check if the character is a vowel or a consonant\n",
    "    if char in 'aeiou':\n",
    "        print(f\"{char} is a vowel.\")\n",
    "    else:\n",
    "        print(f\"{char} is a consonant.\")\n",
    "else:\n",
    "    print(\"Please enter a single alphabetic character.\")\n"
   ]
  },
  {
   "cell_type": "markdown",
   "id": "a9fb7a36-23aa-47e4-9b1e-ebf2b2f9961f",
   "metadata": {},
   "source": [
    "q.9"
   ]
  },
  {
   "cell_type": "code",
   "execution_count": 86,
   "id": "d2a478d4-6084-4d17-8d14-2e69c59e2378",
   "metadata": {},
   "outputs": [],
   "source": [
    "#You can create a Python program to calculate the total cost of a shopping cart based on discounts. Here's a program that calculates the total cost with discounts applied:"
   ]
  },
  {
   "cell_type": "code",
   "execution_count": 87,
   "id": "319ac01a-bb9a-4b27-8065-6420f7cd5634",
   "metadata": {},
   "outputs": [
    {
     "name": "stdout",
     "output_type": "stream",
     "text": [
      "Total cost before discounts: $260.00\n",
      "Total cost after discounts: $234.00\n"
     ]
    }
   ],
   "source": [
    "# Define the prices and quantities of items in the shopping cart\n",
    "item_prices = {\n",
    "    \"item1\": 10.0,\n",
    "    \"item2\": 20.0,\n",
    "    \"item3\": 30.0,\n",
    "    \"item4\": 40.0,\n",
    "}\n",
    "\n",
    "item_quantities = {\n",
    "    \"item1\": 3,\n",
    "    \"item2\": 2,\n",
    "    \"item3\": 1,\n",
    "    \"item4\": 4,\n",
    "}\n",
    "\n",
    "# Calculate the total cost before discounts\n",
    "total_cost_before_discounts = sum(item_prices[item] * item_quantities[item] for item in item_prices)\n",
    "\n",
    "# Apply discounts based on the total cost\n",
    "discount = 0.0\n",
    "\n",
    "if total_cost_before_discounts >= 100:\n",
    "    discount = 0.10  # 10% discount for total cost >= $100\n",
    "elif total_cost_before_discounts >= 50:\n",
    "    discount = 0.05  # 5% discount for total cost >= $50\n",
    "\n",
    "# Calculate the total cost after applying discounts\n",
    "total_cost_after_discounts = total_cost_before_discounts * (1 - discount)\n",
    "\n",
    "# Print the total cost before and after discounts\n",
    "print(f\"Total cost before discounts: ${total_cost_before_discounts:.2f}\")\n",
    "print(f\"Total cost after discounts: ${total_cost_after_discounts:.2f}\")\n"
   ]
  },
  {
   "cell_type": "markdown",
   "id": "85d4e941-8fc4-405b-8e27-60c0060b109d",
   "metadata": {},
   "source": [
    "q.10"
   ]
  },
  {
   "cell_type": "code",
   "execution_count": 88,
   "id": "9660fdb9-b36c-474b-b43d-af75e026f050",
   "metadata": {},
   "outputs": [],
   "source": [
    "#You can create a simple Python program to check if a given number is even or odd. Here's a program that does that:"
   ]
  },
  {
   "cell_type": "code",
   "execution_count": 89,
   "id": "7b8a44d6-7581-4dd1-acb6-a1fe7b01422c",
   "metadata": {},
   "outputs": [
    {
     "name": "stdin",
     "output_type": "stream",
     "text": [
      "Enter a number:  8\n"
     ]
    },
    {
     "name": "stdout",
     "output_type": "stream",
     "text": [
      "8 is even.\n"
     ]
    }
   ],
   "source": [
    "# Input a number from the user\n",
    "num = int(input(\"Enter a number: \"))\n",
    "\n",
    "# Check if the number is even or odd\n",
    "if num % 2 == 0:\n",
    "    print(f\"{num} is even.\")\n",
    "else:\n",
    "    print(f\"{num} is odd.\")\n"
   ]
  },
  {
   "cell_type": "code",
   "execution_count": 90,
   "id": "ecb24fcc-0f71-4990-bea3-1f838e7ee8b8",
   "metadata": {},
   "outputs": [],
   "source": [
    "#Intermediate Level:"
   ]
  },
  {
   "cell_type": "markdown",
   "id": "d316d237-557f-4276-9f80-fa240c033495",
   "metadata": {},
   "source": [
    "q.11"
   ]
  },
  {
   "cell_type": "code",
   "execution_count": 91,
   "id": "6baf8908-b542-468e-972d-593f8789ca71",
   "metadata": {},
   "outputs": [],
   "source": [
    "#You can create a Python program to calculate the roots of a quadratic equation using the quadratic formula. Here's a program that does that:"
   ]
  },
  {
   "cell_type": "code",
   "execution_count": 92,
   "id": "53cd52ea-cd00-447d-a67b-ef0b8bb54be7",
   "metadata": {},
   "outputs": [
    {
     "name": "stdin",
     "output_type": "stream",
     "text": [
      "Enter the coefficient of x^2 (a):  5\n",
      "Enter the coefficient of x (b):  6\n",
      "Enter the constant term (c):  8\n"
     ]
    },
    {
     "name": "stdout",
     "output_type": "stream",
     "text": [
      "The roots are complex: -0.6 + 1.1135528725660042i and -0.6 - 1.1135528725660042i\n"
     ]
    }
   ],
   "source": [
    "import math\n",
    "\n",
    "# Input the coefficients of the quadratic equation\n",
    "a = float(input(\"Enter the coefficient of x^2 (a): \"))\n",
    "b = float(input(\"Enter the coefficient of x (b): \"))\n",
    "c = float(input(\"Enter the constant term (c): \"))\n",
    "\n",
    "# Calculate the discriminant\n",
    "discriminant = b**2 - 4*a*c\n",
    "\n",
    "# Check the discriminant to determine the nature of roots\n",
    "if discriminant > 0:\n",
    "    # Two distinct real roots\n",
    "    root1 = (-b + math.sqrt(discriminant)) / (2*a)\n",
    "    root2 = (-b - math.sqrt(discriminant)) / (2*a)\n",
    "    print(f\"The roots are real and distinct: {root1} and {root2}\")\n",
    "elif discriminant == 0:\n",
    "    # One real root (repeated)\n",
    "    root = -b / (2*a)\n",
    "    print(f\"The root is real and repeated: {root}\")\n",
    "else:\n",
    "    # Complex roots\n",
    "    real_part = -b / (2*a)\n",
    "    imaginary_part = math.sqrt(abs(discriminant)) / (2*a)\n",
    "    if discriminant < 0:\n",
    "        print(f\"The roots are complex: {real_part} + {imaginary_part}i and {real_part} - {imaginary_part}i\")\n",
    "    else:\n",
    "        print(f\"The roots are complex: {real_part} + {imaginary_part}j and {real_part} - {imaginary_part}j\")\n"
   ]
  },
  {
   "cell_type": "markdown",
   "id": "23e31725-f078-4197-b9f0-48be7caf5bd3",
   "metadata": {},
   "source": [
    "q.12"
   ]
  },
  {
   "cell_type": "code",
   "execution_count": 93,
   "id": "22002df2-f257-4345-a0cb-ea315c25024f",
   "metadata": {},
   "outputs": [],
   "source": [
    "#You can create a Python program to determine the day of the week based on a user-provided day number (1-7), where 1 represents Monday and 7 represents Sunday. Here's a program that does that:"
   ]
  },
  {
   "cell_type": "code",
   "execution_count": 94,
   "id": "7b4bba41-04a1-4252-83a3-0f5bf1d5d04a",
   "metadata": {},
   "outputs": [
    {
     "name": "stdin",
     "output_type": "stream",
     "text": [
      "Enter the day number (1-7):  5\n"
     ]
    },
    {
     "name": "stdout",
     "output_type": "stream",
     "text": [
      "Day number 5 corresponds to Friday.\n"
     ]
    }
   ],
   "source": [
    "# Input the day number from the user\n",
    "day_number = int(input(\"Enter the day number (1-7): \"))\n",
    "\n",
    "# Determine the day of the week based on the day number\n",
    "if day_number == 1:\n",
    "    day_of_week = \"Monday\"\n",
    "elif day_number == 2:\n",
    "    day_of_week = \"Tuesday\"\n",
    "elif day_number == 3:\n",
    "    day_of_week = \"Wednesday\"\n",
    "elif day_number == 4:\n",
    "    day_of_week = \"Thursday\"\n",
    "elif day_number == 5:\n",
    "    day_of_week = \"Friday\"\n",
    "elif day_number == 6:\n",
    "    day_of_week = \"Saturday\"\n",
    "elif day_number == 7:\n",
    "    day_of_week = \"Sunday\"\n",
    "else:\n",
    "    day_of_week = \"Invalid day number\"\n",
    "\n",
    "# Print the day of the week\n",
    "print(f\"Day number {day_number} corresponds to {day_of_week}.\")\n"
   ]
  },
  {
   "cell_type": "markdown",
   "id": "e64fee96-b96d-40db-a263-d571f490d525",
   "metadata": {},
   "source": [
    "q.13"
   ]
  },
  {
   "cell_type": "code",
   "execution_count": 95,
   "id": "c5059cd5-261b-48b9-a450-88bae8a5503a",
   "metadata": {},
   "outputs": [],
   "source": [
    "#You can create a Python program to calculate the factorial of a given number using recursion. Here's a program that does that:"
   ]
  },
  {
   "cell_type": "code",
   "execution_count": 96,
   "id": "459b464c-f8e6-44a3-b4f0-b6f44f7f6acf",
   "metadata": {},
   "outputs": [
    {
     "name": "stdin",
     "output_type": "stream",
     "text": [
      "Enter a non-negative integer:  5\n"
     ]
    },
    {
     "name": "stdout",
     "output_type": "stream",
     "text": [
      "The factorial of 5 is 120.\n"
     ]
    }
   ],
   "source": [
    "# Recursive function to calculate the factorial\n",
    "def factorial(n):\n",
    "    if n == 0:\n",
    "        return 1\n",
    "    else:\n",
    "        return n * factorial(n - 1)\n",
    "\n",
    "# Input a number from the user\n",
    "num = int(input(\"Enter a non-negative integer: \"))\n",
    "\n",
    "# Check if the input is non-negative\n",
    "if num < 0:\n",
    "    print(\"Please enter a non-negative integer.\")\n",
    "else:\n",
    "    result = factorial(num)\n",
    "    print(f\"The factorial of {num} is {result}.\")\n"
   ]
  },
  {
   "cell_type": "markdown",
   "id": "1196fc72-3c7f-424f-9d9d-e15b3aa070a0",
   "metadata": {},
   "source": [
    "q.14"
   ]
  },
  {
   "cell_type": "code",
   "execution_count": 97,
   "id": "3de92427-51c8-49b3-b400-efda5aca1477",
   "metadata": {},
   "outputs": [],
   "source": [
    "#You can create a Python program to find the largest among three numbers without using the max() function. Here's a program that accomplishes this:"
   ]
  },
  {
   "cell_type": "code",
   "execution_count": 98,
   "id": "19108d04-27e9-4e94-9ba6-2aed4f757f44",
   "metadata": {},
   "outputs": [
    {
     "name": "stdin",
     "output_type": "stream",
     "text": [
      "Enter the first number:  5\n",
      "Enter the second number:  6\n",
      "Enter the third number:  5\n"
     ]
    },
    {
     "name": "stdout",
     "output_type": "stream",
     "text": [
      "The largest number among 5.0, 6.0, and 5.0 is 6.0.\n"
     ]
    }
   ],
   "source": [
    "# Input three numbers from the user\n",
    "num1 = float(input(\"Enter the first number: \"))\n",
    "num2 = float(input(\"Enter the second number: \"))\n",
    "num3 = float(input(\"Enter the third number: \"))\n",
    "\n",
    "# Initialize a variable to store the largest number\n",
    "largest_num = num1\n",
    "\n",
    "# Compare num2 with largest_num\n",
    "if num2 > largest_num:\n",
    "    largest_num = num2\n",
    "\n",
    "# Compare num3 with largest_num\n",
    "if num3 > largest_num:\n",
    "    largest_num = num3\n",
    "\n",
    "# Print the largest number\n",
    "print(f\"The largest number among {num1}, {num2}, and {num3} is {largest_num}.\")\n"
   ]
  },
  {
   "cell_type": "markdown",
   "id": "9ef3a08a-b97d-47f3-b25f-3b16852d82ee",
   "metadata": {},
   "source": [
    "q.15"
   ]
  },
  {
   "cell_type": "code",
   "execution_count": 99,
   "id": "4724fd53-02ce-4ce4-bfd9-62cee5ea4829",
   "metadata": {},
   "outputs": [],
   "source": [
    "#You can create a Python program that simulates a basic ATM transaction menu with options like checking balance, depositing funds, and withdrawing funds. Here's a simple program to get you started:"
   ]
  },
  {
   "cell_type": "code",
   "execution_count": 100,
   "id": "a3069cff-de1b-47c4-a8ba-4989f731ef4e",
   "metadata": {},
   "outputs": [
    {
     "name": "stdout",
     "output_type": "stream",
     "text": [
      "\n",
      "ATM Menu:\n",
      "1. Check Balance\n",
      "2. Deposit Funds\n",
      "3. Withdraw Funds\n",
      "4. Quit\n"
     ]
    },
    {
     "name": "stdin",
     "output_type": "stream",
     "text": [
      "Enter your choice (1/2/3/4):  1\n"
     ]
    },
    {
     "name": "stdout",
     "output_type": "stream",
     "text": [
      "Your account balance is: $1000.00\n",
      "\n",
      "ATM Menu:\n",
      "1. Check Balance\n",
      "2. Deposit Funds\n",
      "3. Withdraw Funds\n",
      "4. Quit\n"
     ]
    },
    {
     "name": "stdin",
     "output_type": "stream",
     "text": [
      "Enter your choice (1/2/3/4):  4\n"
     ]
    },
    {
     "name": "stdout",
     "output_type": "stream",
     "text": [
      "Thank you for using the ATM. Goodbye!\n"
     ]
    }
   ],
   "source": [
    "# Initialize account balance\n",
    "balance = 1000.0  # You can set an initial balance\n",
    "\n",
    "# Function to display the ATM menu\n",
    "def display_menu():\n",
    "    print(\"\\nATM Menu:\")\n",
    "    print(\"1. Check Balance\")\n",
    "    print(\"2. Deposit Funds\")\n",
    "    print(\"3. Withdraw Funds\")\n",
    "    print(\"4. Quit\")\n",
    "\n",
    "# Function to check account balance\n",
    "def check_balance():\n",
    "    print(f\"Your account balance is: ${balance:.2f}\")\n",
    "\n",
    "# Function to deposit funds\n",
    "def deposit_funds():\n",
    "    global balance\n",
    "    amount = float(input(\"Enter the amount to deposit: $\"))\n",
    "    if amount > 0:\n",
    "        balance += amount\n",
    "        print(f\"Deposit of ${amount:.2f} successful.\")\n",
    "    else:\n",
    "        print(\"Invalid deposit amount. Please enter a positive value.\")\n",
    "\n",
    "# Function to withdraw funds\n",
    "def withdraw_funds():\n",
    "    global balance\n",
    "    amount = float(input(\"Enter the amount to withdraw: $\"))\n",
    "    if amount > 0 and amount <= balance:\n",
    "        balance -= amount\n",
    "        print(f\"Withdrawal of ${amount:.2f} successful.\")\n",
    "    else:\n",
    "        print(\"Invalid withdrawal amount. Please enter a valid amount within your balance.\")\n",
    "\n",
    "# Main program loop\n",
    "while True:\n",
    "    display_menu()\n",
    "    choice = input(\"Enter your choice (1/2/3/4): \")\n",
    "\n",
    "    if choice == \"1\":\n",
    "        check_balance()\n",
    "    elif choice == \"2\":\n",
    "        deposit_funds()\n",
    "    elif choice == \"3\":\n",
    "        withdraw_funds()\n",
    "    elif choice == \"4\":\n",
    "        print(\"Thank you for using the ATM. Goodbye!\")\n",
    "        break\n",
    "    else:\n",
    "        print(\"Invalid choice. Please select a valid option (1/2/3/4).\")\n"
   ]
  },
  {
   "cell_type": "markdown",
   "id": "0f4790ba-91ba-4a70-b6cc-b376bac0260a",
   "metadata": {},
   "source": [
    "q.16"
   ]
  },
  {
   "cell_type": "code",
   "execution_count": 101,
   "id": "624ca5f9-a7f2-484d-8035-91fe1015b26e",
   "metadata": {},
   "outputs": [],
   "source": [
    "#You can create a Python program to check if a given string is a palindrome or not. A palindrome is a word, phrase, or sequence of characters that reads the same forwards and backwards. Here's a program that does that:"
   ]
  },
  {
   "cell_type": "code",
   "execution_count": 102,
   "id": "db5d8352-ebf5-43e2-9bd8-362e2b9df9ef",
   "metadata": {},
   "outputs": [
    {
     "name": "stdin",
     "output_type": "stream",
     "text": [
      "Enter a string:  mohit\n"
     ]
    },
    {
     "name": "stdout",
     "output_type": "stream",
     "text": [
      "'mohit' is not a palindrome.\n"
     ]
    }
   ],
   "source": [
    "# Function to check if a string is a palindrome\n",
    "def is_palindrome(input_string):\n",
    "    # Remove spaces and convert to lowercase for case-insensitive comparison\n",
    "    input_string = input_string.replace(\" \", \"\").lower()\n",
    "    # Compare the string with its reverse\n",
    "    return input_string == input_string[::-1]\n",
    "\n",
    "# Input a string from the user\n",
    "string_to_check = input(\"Enter a string: \")\n",
    "\n",
    "# Check if the input string is a palindrome\n",
    "if is_palindrome(string_to_check):\n",
    "    print(f\"'{string_to_check}' is a palindrome.\")\n",
    "else:\n",
    "    print(f\"'{string_to_check}' is not a palindrome.\")\n"
   ]
  },
  {
   "cell_type": "markdown",
   "id": "80f7085c-25c7-47b0-8a54-091f4c02f794",
   "metadata": {},
   "source": [
    "q.17"
   ]
  },
  {
   "cell_type": "code",
   "execution_count": 103,
   "id": "0e91dec2-13e8-4611-88d3-a62a4cbcdae1",
   "metadata": {},
   "outputs": [],
   "source": [
    "#You can create a Python program to calculate the average of a list of numbers, excluding the smallest and largest values. Here's a program that does that:"
   ]
  },
  {
   "cell_type": "code",
   "execution_count": 108,
   "id": "f08ba432-7300-46ee-85a6-6683e655d207",
   "metadata": {},
   "outputs": [
    {
     "name": "stdin",
     "output_type": "stream",
     "text": [
      "Enter a list of numbers separated by spaces:  546\n"
     ]
    },
    {
     "name": "stdout",
     "output_type": "stream",
     "text": [
      "There are not enough numbers to calculate the average (need at least 3).\n"
     ]
    }
   ],
   "source": [
    "# Function to calculate the average, excluding the smallest and largest values\n",
    "def calculate_average(numbers):\n",
    "    if len(numbers) < 3:\n",
    "        return None  # There are not enough numbers to exclude the smallest and largest\n",
    "\n",
    "    # Exclude the smallest and largest values\n",
    "    numbers.sort()\n",
    "    numbers = numbers[1:-1]\n",
    "\n",
    "    # Calculate the average of the remaining numbers\n",
    "    average = sum(numbers) / len(numbers)\n",
    "    return average\n",
    "\n",
    "# Input a list of numbers from the user\n",
    "try:\n",
    "    numbers = [float(x) for x in input(\"Enter a list of numbers separated by spaces: \").split()]\n",
    "except ValueError:\n",
    "    print(\"Invalid input. Please enter a list of numbers separated by spaces.\")\n",
    "else:\n",
    "    # Calculate the average (excluding smallest and largest values)\n",
    "    result = calculate_average(numbers)\n",
    "    if result is not None:\n",
    "        print(f\"The average of the list (excluding the smallest and largest values) is: {result:.2f}\")\n",
    "    else:\n",
    "        print(\"There are not enough numbers to calculate the average (need at least 3).\")\n"
   ]
  },
  {
   "cell_type": "markdown",
   "id": "50dae138-50d8-450b-8475-c773079058d2",
   "metadata": {},
   "source": [
    "q.18"
   ]
  },
  {
   "cell_type": "code",
   "execution_count": 109,
   "id": "ab0fd816-4a5c-4df3-a37f-c4acc2cea177",
   "metadata": {},
   "outputs": [],
   "source": [
    "#You can create a Python program to convert a given temperature from Celsius to Fahrenheit using the conversion formula: Fahrenheit = (Celsius * 9/5) + 32. Here's a program that does that:"
   ]
  },
  {
   "cell_type": "code",
   "execution_count": 110,
   "id": "26455ca0-9043-4ee7-a632-b43c9030cb8b",
   "metadata": {},
   "outputs": [
    {
     "name": "stdin",
     "output_type": "stream",
     "text": [
      "Enter temperature in Celsius:  95\n"
     ]
    },
    {
     "name": "stdout",
     "output_type": "stream",
     "text": [
      "95.0 degrees Celsius is equal to 203.00 degrees Fahrenheit.\n"
     ]
    }
   ],
   "source": [
    "# Input temperature in Celsius from the user\n",
    "celsius = float(input(\"Enter temperature in Celsius: \"))\n",
    "\n",
    "# Convert Celsius to Fahrenheit\n",
    "fahrenheit = (celsius * 9/5) + 32\n",
    "\n",
    "# Display the result\n",
    "print(f\"{celsius} degrees Celsius is equal to {fahrenheit:.2f} degrees Fahrenheit.\")\n"
   ]
  },
  {
   "cell_type": "markdown",
   "id": "adf0ea14-da96-44ec-9e69-34bd5599b6ac",
   "metadata": {},
   "source": [
    "q.19"
   ]
  },
  {
   "cell_type": "code",
   "execution_count": 111,
   "id": "09d5daaa-b3ea-4dcb-9d1a-11452c27005c",
   "metadata": {},
   "outputs": [],
   "source": [
    "#You can create a Python program to simulate a basic calculator that performs addition, subtraction, multiplication, and division. Here's a program that does that:"
   ]
  },
  {
   "cell_type": "code",
   "execution_count": 112,
   "id": "a9864d51-91c7-4fb4-a2a6-455026c7f72e",
   "metadata": {},
   "outputs": [
    {
     "name": "stdout",
     "output_type": "stream",
     "text": [
      "Calculator Menu:\n",
      "1. Addition\n",
      "2. Subtraction\n",
      "3. Multiplication\n",
      "4. Division\n"
     ]
    },
    {
     "name": "stdin",
     "output_type": "stream",
     "text": [
      "Enter your choice (1/2/3/4):  1\n",
      "Enter the first number:  45\n",
      "Enter the second number:  85\n"
     ]
    },
    {
     "name": "stdout",
     "output_type": "stream",
     "text": [
      "The result of addition is: 130.0\n"
     ]
    }
   ],
   "source": [
    "# Function to perform addition\n",
    "def add(x, y):\n",
    "    return x + y\n",
    "\n",
    "# Function to perform subtraction\n",
    "def subtract(x, y):\n",
    "    return x - y\n",
    "\n",
    "# Function to perform multiplication\n",
    "def multiply(x, y):\n",
    "    return x * y\n",
    "\n",
    "# Function to perform division\n",
    "def divide(x, y):\n",
    "    if y == 0:\n",
    "        return \"Division by zero is not allowed\"\n",
    "    return x / y\n",
    "\n",
    "# Display the calculator menu\n",
    "print(\"Calculator Menu:\")\n",
    "print(\"1. Addition\")\n",
    "print(\"2. Subtraction\")\n",
    "print(\"3. Multiplication\")\n",
    "print(\"4. Division\")\n",
    "\n",
    "# Input choice from the user\n",
    "choice = input(\"Enter your choice (1/2/3/4): \")\n",
    "\n",
    "# Input two numbers from the user\n",
    "num1 = float(input(\"Enter the first number: \"))\n",
    "num2 = float(input(\"Enter the second number: \"))\n",
    "\n",
    "# Perform the selected operation based on the user's choice\n",
    "if choice == \"1\":\n",
    "    result = add(num1, num2)\n",
    "    operation = \"addition\"\n",
    "elif choice == \"2\":\n",
    "    result = subtract(num1, num2)\n",
    "    operation = \"subtraction\"\n",
    "elif choice == \"3\":\n",
    "    result = multiply(num1, num2)\n",
    "    operation = \"multiplication\"\n",
    "elif choice == \"4\":\n",
    "    result = divide(num1, num2)\n",
    "    operation = \"division\"\n",
    "else:\n",
    "    result = \"Invalid choice\"\n",
    "    operation = \"\"\n",
    "\n",
    "# Display the result of the operation\n",
    "if operation:\n",
    "    print(f\"The result of {operation} is: {result}\")\n",
    "else:\n",
    "    print(\"Invalid choice. Please select a valid operation (1/2/3/4).\")\n"
   ]
  },
  {
   "cell_type": "markdown",
   "id": "5689d54c-eea6-48ec-9b4f-fd4d9060b3ce",
   "metadata": {},
   "source": [
    "q.20"
   ]
  },
  {
   "cell_type": "code",
   "execution_count": 113,
   "id": "ceacb480-6859-462a-8a34-c11a3054e43a",
   "metadata": {},
   "outputs": [],
   "source": [
    "#Solving cubic equations using Cardano's method can be quite involved due to its complexity, and it requires handling both real and complex roots. Below is a Python program that uses Cardano's formula to find the real roots of a cubic equation of the form ax^3 + bx^2 + cx + d = 0. Please note that this code assumes real roots and may not handle all cases for complex roots:"
   ]
  },
  {
   "cell_type": "code",
   "execution_count": 114,
   "id": "c548ccea-c293-45f5-acd9-a0eb1b7a8593",
   "metadata": {},
   "outputs": [
    {
     "name": "stdin",
     "output_type": "stream",
     "text": [
      "Enter the coefficient of x^3 (a):  5\n",
      "Enter the coefficient of x^2 (b):  8\n",
      "Enter the coefficient of x (c):  9\n",
      "Enter the constant term (d):  7\n"
     ]
    },
    {
     "name": "stdout",
     "output_type": "stream",
     "text": [
      "The roots of the cubic equation are:\n",
      "Root 1: 0.269904+0.798385j\n"
     ]
    }
   ],
   "source": [
    "import math\n",
    "\n",
    "# Function to find the roots of a cubic equation using Cardano's formula\n",
    "def cubic_roots(a, b, c, d):\n",
    "    if a == 0:\n",
    "        return \"Coefficient 'a' cannot be zero (not a cubic equation)\"\n",
    "\n",
    "    # Calculate some intermediate values\n",
    "    p = (3 * a * c - b**2) / (3 * a**2)\n",
    "    q = (2 * b**3 - 9 * a * b * c + 27 * a**2 * d) / (27 * a**3)\n",
    "    discriminant = (q**2) / 4 + (p**3) / 27\n",
    "\n",
    "    if discriminant > 0:\n",
    "        # One real root, two complex roots\n",
    "        u = (-q / 2 + math.sqrt(discriminant))**(1/3)\n",
    "        v = (-q / 2 - math.sqrt(discriminant))**(1/3)\n",
    "        real_root = u + v - (b / (3 * a))\n",
    "        return [real_root]\n",
    "\n",
    "    elif discriminant == 0:\n",
    "        # Three real roots, with one repeated\n",
    "        u = (-q / 2)**(1/3)\n",
    "        real_root1 = 2 * u - (b / (3 * a))\n",
    "        real_root2 = -u - (b / (3 * a))\n",
    "        return [real_root1, real_root2]\n",
    "\n",
    "    else:\n",
    "        # Three real roots\n",
    "        rho = math.sqrt((-p**3) / 27)\n",
    "        theta = math.acos(-q / (2 * rho))\n",
    "        root1 = 2 * math.sqrt(-p / 3) * math.cos(theta / 3) - (b / (3 * a))\n",
    "        root2 = 2 * math.sqrt(-p / 3) * math.cos((theta + 2 * math.pi) / 3) - (b / (3 * a))\n",
    "        root3 = 2 * math.sqrt(-p / 3) * math.cos((theta + 4 * math.pi) / 3) - (b / (3 * a))\n",
    "        return [root1, root2, root3]\n",
    "\n",
    "# Input coefficients from the user\n",
    "a = float(input(\"Enter the coefficient of x^3 (a): \"))\n",
    "b = float(input(\"Enter the coefficient of x^2 (b): \"))\n",
    "c = float(input(\"Enter the coefficient of x (c): \"))\n",
    "d = float(input(\"Enter the constant term (d): \"))\n",
    "\n",
    "# Find the roots\n",
    "roots = cubic_roots(a, b, c, d)\n",
    "\n",
    "# Display the roots\n",
    "if isinstance(roots, str):\n",
    "    print(roots)\n",
    "else:\n",
    "    print(\"The roots of the cubic equation are:\")\n",
    "    for i, root in enumerate(roots):\n",
    "        print(f\"Root {i + 1}: {root:.6f}\")\n"
   ]
  },
  {
   "cell_type": "code",
   "execution_count": 115,
   "id": "f38b5e34-20f5-4ee8-98a5-10becc5defba",
   "metadata": {},
   "outputs": [],
   "source": [
    "#Advanced Level:"
   ]
  },
  {
   "cell_type": "markdown",
   "id": "8b70a140-a96f-41e0-ab61-9b32e2c6025a",
   "metadata": {},
   "source": [
    "q.21"
   ]
  },
  {
   "cell_type": "code",
   "execution_count": 116,
   "id": "dc127ce8-b2e8-400c-b19a-4ef99d8e7c3b",
   "metadata": {},
   "outputs": [],
   "source": [
    "#You can create a Python program that calculates income tax based on user's income and tax brackets. Here's a simplified program that calculates income tax using predefined tax brackets and rates:"
   ]
  },
  {
   "cell_type": "code",
   "execution_count": 117,
   "id": "89ee51ba-1682-4d21-abd7-c8994655e448",
   "metadata": {},
   "outputs": [
    {
     "name": "stdin",
     "output_type": "stream",
     "text": [
      "Enter your annual income:  895\n"
     ]
    },
    {
     "name": "stdout",
     "output_type": "stream",
     "text": [
      "Your income tax is: $89.50\n"
     ]
    }
   ],
   "source": [
    "# Define the tax brackets and rates\n",
    "tax_brackets = [(0, 10000), (10001, 40000), (40001, 80000), (80001, float('inf'))]\n",
    "tax_rates = [0.10, 0.20, 0.30, 0.40]\n",
    "\n",
    "# Input the user's income\n",
    "income = float(input(\"Enter your annual income: \"))\n",
    "\n",
    "# Initialize the total tax\n",
    "total_tax = 0\n",
    "\n",
    "# Calculate the tax based on the tax brackets and rates\n",
    "for i, (lower, upper) in enumerate(tax_brackets):\n",
    "    if income <= lower:\n",
    "        break\n",
    "    elif income <= upper:\n",
    "        total_tax += (income - lower) * tax_rates[i]\n",
    "        break\n",
    "    else:\n",
    "        total_tax += (upper - lower) * tax_rates[i]\n",
    "\n",
    "# Display the calculated tax\n",
    "print(f\"Your income tax is: ${total_tax:.2f}\")\n"
   ]
  },
  {
   "cell_type": "markdown",
   "id": "1e858cd7-f059-47ef-b5b5-1bf62d556d4e",
   "metadata": {},
   "source": [
    "q.22"
   ]
  },
  {
   "cell_type": "code",
   "execution_count": 119,
   "id": "9fe0021e-c074-43ea-94bc-61b94fad8e81",
   "metadata": {},
   "outputs": [],
   "source": [
    "#You can create a Python program that simulates a rock-paper-scissors game against the computer. In this game, the computer's choice will be randomized. Here's a simple program for that:"
   ]
  },
  {
   "cell_type": "code",
   "execution_count": 120,
   "id": "03803e81-1c98-4267-9e1d-5bfcdb929be4",
   "metadata": {},
   "outputs": [
    {
     "name": "stdout",
     "output_type": "stream",
     "text": [
      "Let's play Rock-Paper-Scissors!\n",
      "Enter your choice: rock, paper, or scissors.\n",
      "To quit the game, enter 'quit'.\n"
     ]
    },
    {
     "name": "stdin",
     "output_type": "stream",
     "text": [
      "Your choice:  quit\n"
     ]
    },
    {
     "name": "stdout",
     "output_type": "stream",
     "text": [
      "Thanks for playing. Goodbye!\n"
     ]
    }
   ],
   "source": [
    "import random\n",
    "\n",
    "# Function to get the computer's choice\n",
    "def get_computer_choice():\n",
    "    choices = [\"rock\", \"paper\", \"scissors\"]\n",
    "    return random.choice(choices)\n",
    "\n",
    "# Function to determine the winner\n",
    "def determine_winner(player_choice, computer_choice):\n",
    "    if player_choice == computer_choice:\n",
    "        return \"It's a tie!\"\n",
    "    elif (\n",
    "        (player_choice == \"rock\" and computer_choice == \"scissors\")\n",
    "        or (player_choice == \"scissors\" and computer_choice == \"paper\")\n",
    "        or (player_choice == \"paper\" and computer_choice == \"rock\")\n",
    "    ):\n",
    "        return \"You win!\"\n",
    "    else:\n",
    "        return \"Computer wins!\"\n",
    "\n",
    "# Display game instructions\n",
    "print(\"Let's play Rock-Paper-Scissors!\")\n",
    "print(\"Enter your choice: rock, paper, or scissors.\")\n",
    "print(\"To quit the game, enter 'quit'.\")\n",
    "\n",
    "while True:\n",
    "    # Get player's choice\n",
    "    player_choice = input(\"Your choice: \").lower()\n",
    "\n",
    "    # Check if the player wants to quit\n",
    "    if player_choice == \"quit\":\n",
    "        print(\"Thanks for playing. Goodbye!\")\n",
    "        break\n",
    "\n",
    "    # Validate player's choice\n",
    "    if player_choice not in [\"rock\", \"paper\", \"scissors\"]:\n",
    "        print(\"Invalid choice. Please choose 'rock', 'paper', 'scissors', or 'quit'.\")\n",
    "        continue\n",
    "\n",
    "    # Get computer's choice\n",
    "    computer_choice = get_computer_choice()\n",
    "    print(f\"Computer's choice: {computer_choice}\")\n",
    "\n",
    "    # Determine the winner\n",
    "    result = determine_winner(player_choice, computer_choice)\n",
    "    print(result)\n"
   ]
  },
  {
   "cell_type": "markdown",
   "id": "17196525-56dc-472a-8392-8403298acd95",
   "metadata": {},
   "source": [
    "q.23"
   ]
  },
  {
   "cell_type": "code",
   "execution_count": 121,
   "id": "6204c47b-e432-468d-9a2c-18bfe83b4962",
   "metadata": {},
   "outputs": [],
   "source": [
    "#You can create a Python program that generates a random password based on user preferences, such as password length and complexity. Here's a program that allows the user to specify these preferences:"
   ]
  },
  {
   "cell_type": "code",
   "execution_count": 122,
   "id": "9379a384-a527-471a-b65e-e0b23a08fddc",
   "metadata": {},
   "outputs": [
    {
     "name": "stdin",
     "output_type": "stream",
     "text": [
      "Enter the desired password length:  8\n",
      "Include lowercase letters (yes/no):  no\n",
      "Include uppercase letters (yes/no):  yes\n",
      "Include digits (yes/no):  yes\n",
      "Include special characters (yes/no):  no\n"
     ]
    },
    {
     "name": "stdout",
     "output_type": "stream",
     "text": [
      "Generated Password: 3ATFULAG\n"
     ]
    }
   ],
   "source": [
    "import random\n",
    "import string\n",
    "\n",
    "# Function to generate a random password\n",
    "def generate_password(length, use_lowercase, use_uppercase, use_digits, use_special_chars):\n",
    "    # Define character sets based on user preferences\n",
    "    lowercase_chars = string.ascii_lowercase if use_lowercase else ''\n",
    "    uppercase_chars = string.ascii_uppercase if use_uppercase else ''\n",
    "    digit_chars = string.digits if use_digits else ''\n",
    "    special_chars = string.punctuation if use_special_chars else ''\n",
    "\n",
    "    # Combine character sets\n",
    "    all_chars = lowercase_chars + uppercase_chars + digit_chars + special_chars\n",
    "\n",
    "    # Check if at least one character set is selected\n",
    "    if not all_chars:\n",
    "        return \"Password cannot be generated. Please select at least one character set.\"\n",
    "\n",
    "    # Generate the password\n",
    "    password = ''.join(random.choice(all_chars) for _ in range(length))\n",
    "    return password\n",
    "\n",
    "# Get user preferences for password generation\n",
    "length = int(input(\"Enter the desired password length: \"))\n",
    "use_lowercase = input(\"Include lowercase letters (yes/no): \").lower() == \"yes\"\n",
    "use_uppercase = input(\"Include uppercase letters (yes/no): \").lower() == \"yes\"\n",
    "use_digits = input(\"Include digits (yes/no): \").lower() == \"yes\"\n",
    "use_special_chars = input(\"Include special characters (yes/no): \").lower() == \"yes\"\n",
    "\n",
    "# Generate and display the password\n",
    "password = generate_password(length, use_lowercase, use_uppercase, use_digits, use_special_chars)\n",
    "print(f\"Generated Password: {password}\")\n"
   ]
  },
  {
   "cell_type": "markdown",
   "id": "962eff36-9c04-4401-95aa-4b1c35a92880",
   "metadata": {},
   "source": [
    "q.24"
   ]
  },
  {
   "cell_type": "code",
   "execution_count": 123,
   "id": "7d86d8df-a342-4a5a-bdb6-aa4086b2d655",
   "metadata": {},
   "outputs": [],
   "source": [
    "#Creating a text-based adventure game with branching scenarios can be a fun project. Here's a simple Python program for a basic text-based adventure game with multiple choices and branching paths:"
   ]
  },
  {
   "cell_type": "code",
   "execution_count": 124,
   "id": "54876361-df06-4dc2-b7a3-5a92e897783d",
   "metadata": {},
   "outputs": [
    {
     "name": "stdout",
     "output_type": "stream",
     "text": [
      "Welcome to the Text Adventure Game!\n",
      "\n",
      "You find yourself standing at a crossroads in a dark forest.\n",
      "\n"
     ]
    },
    {
     "name": "stdin",
     "output_type": "stream",
     "text": [
      "Do you go left or right? (left/right):  left\n"
     ]
    },
    {
     "name": "stdout",
     "output_type": "stream",
     "text": [
      "You follow the path and arrive at a hidden waterfall.\n",
      "\n"
     ]
    },
    {
     "name": "stdin",
     "output_type": "stream",
     "text": [
      "Do you take a swim or continue exploring? (swim/explore):  swim\n"
     ]
    },
    {
     "name": "stdout",
     "output_type": "stream",
     "text": [
      "You take a refreshing swim and feel rejuvenated.\n",
      "\n",
      "Thanks for playing the Text Adventure Game! Goodbye.\n",
      "\n"
     ]
    }
   ],
   "source": [
    "import time\n",
    "\n",
    "# Function to display a message with a delay\n",
    "def display_message(message):\n",
    "    for char in message:\n",
    "        print(char, end='', flush=True)\n",
    "        time.sleep(0.03)\n",
    "    print(\"\\n\")\n",
    "\n",
    "# Introduction\n",
    "display_message(\"Welcome to the Text Adventure Game!\")\n",
    "\n",
    "# Scenario 1\n",
    "display_message(\"You find yourself standing at a crossroads in a dark forest.\")\n",
    "choice = input(\"Do you go left or right? (left/right): \").lower()\n",
    "\n",
    "if choice == \"left\":\n",
    "    # Scenario 2 - Left Path\n",
    "    display_message(\"You follow the path and arrive at a hidden waterfall.\")\n",
    "    choice = input(\"Do you take a swim or continue exploring? (swim/explore): \").lower()\n",
    "\n",
    "    if choice == \"swim\":\n",
    "        display_message(\"You take a refreshing swim and feel rejuvenated.\")\n",
    "    elif choice == \"explore\":\n",
    "        display_message(\"You continue exploring and discover a hidden treasure chest!\")\n",
    "    else:\n",
    "        display_message(\"Invalid choice. You remain at the waterfall.\")\n",
    "\n",
    "else:\n",
    "    # Scenario 3 - Right Path\n",
    "    display_message(\"You venture into the dense forest and come across a bear's den.\")\n",
    "    choice = input(\"Do you approach the den or backtrack quietly? (approach/backtrack): \").lower()\n",
    "\n",
    "    if choice == \"approach\":\n",
    "        display_message(\"The bear awakens and you quickly realize it's a bad idea. You flee.\")\n",
    "    elif choice == \"backtrack\":\n",
    "        display_message(\"You backtrack quietly and safely return to the crossroads.\")\n",
    "    else:\n",
    "        display_message(\"Invalid choice. You stand frozen in place.\")\n",
    "\n",
    "# Conclusion\n",
    "display_message(\"Thanks for playing the Text Adventure Game! Goodbye.\")\n"
   ]
  },
  {
   "cell_type": "markdown",
   "id": "1ec23a56-9da7-46ef-8085-25ffe760b1d2",
   "metadata": {},
   "source": [
    "q.25"
   ]
  },
  {
   "cell_type": "code",
   "execution_count": 125,
   "id": "a18e872d-90b0-4365-9d20-f86a8ef06666",
   "metadata": {},
   "outputs": [],
   "source": [
    "#You can create a Python program to solve a linear equation for x. A linear equation has the form ax + b = 0, where a and b are constants. Here's a program that considers different cases and solves the equation:"
   ]
  },
  {
   "cell_type": "code",
   "execution_count": 126,
   "id": "b658a5eb-b994-4edd-a25e-b2f742735538",
   "metadata": {},
   "outputs": [
    {
     "name": "stdin",
     "output_type": "stream",
     "text": [
      "Enter the coefficient 'a':  5\n",
      "Enter the coefficient 'b':  6\n"
     ]
    },
    {
     "name": "stdout",
     "output_type": "stream",
     "text": [
      "The solution for x is: x = -1.20\n"
     ]
    }
   ],
   "source": [
    "# Input coefficients a and b from the user\n",
    "a = float(input(\"Enter the coefficient 'a': \"))\n",
    "b = float(input(\"Enter the coefficient 'b': \"))\n",
    "\n",
    "if a == 0:\n",
    "    if b == 0:\n",
    "        print(\"Infinite solutions (the equation is satisfied for all x).\")\n",
    "    else:\n",
    "        print(\"No solution (the equation is inconsistent).\")\n",
    "else:\n",
    "    x = -b / a\n",
    "    print(f\"The solution for x is: x = {x:.2f}\")\n"
   ]
  },
  {
   "cell_type": "markdown",
   "id": "3bfe0d4a-9fe2-4636-bcc9-3c733b4474a0",
   "metadata": {},
   "source": [
    "q.26"
   ]
  },
  {
   "cell_type": "code",
   "execution_count": 127,
   "id": "a108248e-f1ee-4456-8d6d-d092b83ff7df",
   "metadata": {},
   "outputs": [],
   "source": [
    "#Creating a basic quiz game in Python with multiple-choice questions and scoring can be a fun project. Here's a simple example to get you started:"
   ]
  },
  {
   "cell_type": "code",
   "execution_count": 128,
   "id": "a19185c4-27a6-431a-bbbb-1d567739983b",
   "metadata": {},
   "outputs": [
    {
     "name": "stdout",
     "output_type": "stream",
     "text": [
      "What is the capital of France?\n",
      "1. Paris\n",
      "2. London\n",
      "3. Berlin\n",
      "4. Madrid\n"
     ]
    },
    {
     "name": "stdin",
     "output_type": "stream",
     "text": [
      "Enter the number of your answer (1/2/3/4):  1\n"
     ]
    },
    {
     "name": "stdout",
     "output_type": "stream",
     "text": [
      "Correct!\n",
      "\n",
      "Which planet is known as the Red Planet?\n",
      "1. Mars\n",
      "2. Venus\n",
      "3. Jupiter\n",
      "4. Saturn\n"
     ]
    },
    {
     "name": "stdin",
     "output_type": "stream",
     "text": [
      "Enter the number of your answer (1/2/3/4):  1\n"
     ]
    },
    {
     "name": "stdout",
     "output_type": "stream",
     "text": [
      "Correct!\n",
      "\n",
      "Who wrote the play 'Romeo and Juliet'?\n",
      "1. William Shakespeare\n",
      "2. Jane Austen\n",
      "3. Charles Dickens\n",
      "4. Mark Twain\n"
     ]
    },
    {
     "name": "stdin",
     "output_type": "stream",
     "text": [
      "Enter the number of your answer (1/2/3/4):  1\n"
     ]
    },
    {
     "name": "stdout",
     "output_type": "stream",
     "text": [
      "Correct!\n",
      "\n",
      "Quiz completed! Your score is: 3/3\n"
     ]
    }
   ],
   "source": [
    "# Define a list of quiz questions as dictionaries\n",
    "quiz_questions = [\n",
    "    {\n",
    "        \"question\": \"What is the capital of France?\",\n",
    "        \"options\": [\"Paris\", \"London\", \"Berlin\", \"Madrid\"],\n",
    "        \"correct_answer\": \"Paris\",\n",
    "    },\n",
    "    {\n",
    "        \"question\": \"Which planet is known as the Red Planet?\",\n",
    "        \"options\": [\"Mars\", \"Venus\", \"Jupiter\", \"Saturn\"],\n",
    "        \"correct_answer\": \"Mars\",\n",
    "    },\n",
    "    {\n",
    "        \"question\": \"Who wrote the play 'Romeo and Juliet'?\",\n",
    "        \"options\": [\"William Shakespeare\", \"Jane Austen\", \"Charles Dickens\", \"Mark Twain\"],\n",
    "        \"correct_answer\": \"William Shakespeare\",\n",
    "    },\n",
    "]\n",
    "\n",
    "# Initialize the score\n",
    "score = 0\n",
    "\n",
    "# Function to display a question and choices, and check the answer\n",
    "def ask_question(question_data):\n",
    "    print(question_data[\"question\"])\n",
    "    for i, option in enumerate(question_data[\"options\"], start=1):\n",
    "        print(f\"{i}. {option}\")\n",
    "\n",
    "    user_answer = input(\"Enter the number of your answer (1/2/3/4): \")\n",
    "    user_answer = int(user_answer) - 1  # Convert to zero-based index\n",
    "\n",
    "    if (\n",
    "        user_answer >= 0\n",
    "        and user_answer < len(question_data[\"options\"])\n",
    "        and question_data[\"options\"][user_answer] == question_data[\"correct_answer\"]\n",
    "    ):\n",
    "        print(\"Correct!\\n\")\n",
    "        return True\n",
    "    else:\n",
    "        print(f\"Wrong. The correct answer is: {question_data['correct_answer']}\\n\")\n",
    "        return False\n",
    "\n",
    "# Quiz loop\n",
    "for question_data in quiz_questions:\n",
    "    if ask_question(question_data):\n",
    "        score += 1\n",
    "\n",
    "# Display the final score\n",
    "print(f\"Quiz completed! Your score is: {score}/{len(quiz_questions)}\")\n"
   ]
  },
  {
   "cell_type": "markdown",
   "id": "f5e8fc2b-f116-4fe0-8949-2044f02bfd63",
   "metadata": {},
   "source": [
    "q.27"
   ]
  },
  {
   "cell_type": "code",
   "execution_count": 129,
   "id": "4edfefd1-f194-4c90-ba89-ef909e9b8094",
   "metadata": {},
   "outputs": [],
   "source": [
    "#You can create a Python program to determine whether a given year is a prime number or not. In this context, we'll treat the year as a positive integer and check if it's prime. Here's a program to do that:"
   ]
  },
  {
   "cell_type": "code",
   "execution_count": 130,
   "id": "2d7fe265-e9c9-4f5d-93f8-8dc9a2395269",
   "metadata": {},
   "outputs": [
    {
     "name": "stdin",
     "output_type": "stream",
     "text": [
      "Enter a year:  1998\n"
     ]
    },
    {
     "name": "stdout",
     "output_type": "stream",
     "text": [
      "1998 is not a prime year.\n"
     ]
    }
   ],
   "source": [
    "# Function to check if a number is prime\n",
    "def is_prime(year):\n",
    "    if year <= 1:\n",
    "        return False\n",
    "    elif year <= 3:\n",
    "        return True\n",
    "    elif year % 2 == 0 or year % 3 == 0:\n",
    "        return False\n",
    "    i = 5\n",
    "    while i * i <= year:\n",
    "        if year % i == 0 or year % (i + 2) == 0:\n",
    "            return False\n",
    "        i += 6\n",
    "    return True\n",
    "\n",
    "# Input the year from the user\n",
    "year = int(input(\"Enter a year: \"))\n",
    "\n",
    "# Check if the year is prime and display the result\n",
    "if is_prime(year):\n",
    "    print(f\"{year} is a prime year.\")\n",
    "else:\n",
    "    print(f\"{year} is not a prime year.\")\n"
   ]
  },
  {
   "cell_type": "markdown",
   "id": "ff3fcdba-4ead-4371-bce2-a1e9dc05a65e",
   "metadata": {},
   "source": [
    "q.28"
   ]
  },
  {
   "cell_type": "code",
   "execution_count": 131,
   "id": "e04219d1-e747-4fa2-af4f-4063ee141b0e",
   "metadata": {},
   "outputs": [],
   "source": [
    "#You can create a Python program to sort three numbers in ascending order using conditional statements. Here's a program that does that:"
   ]
  },
  {
   "cell_type": "code",
   "execution_count": 132,
   "id": "f8637560-adbc-4cf2-96ed-79dd5a20f83f",
   "metadata": {},
   "outputs": [
    {
     "name": "stdin",
     "output_type": "stream",
     "text": [
      "Enter the first number:  5\n",
      "Enter the second number:  3\n",
      "Enter the third number:  8\n"
     ]
    },
    {
     "name": "stdout",
     "output_type": "stream",
     "text": [
      "The numbers in ascending order are: 3.0, 5.0, 8.0\n"
     ]
    }
   ],
   "source": [
    "# Input three numbers from the user\n",
    "num1 = float(input(\"Enter the first number: \"))\n",
    "num2 = float(input(\"Enter the second number: \"))\n",
    "num3 = float(input(\"Enter the third number: \"))\n",
    "\n",
    "# Compare and swap the numbers to sort them in ascending order\n",
    "if num1 > num2:\n",
    "    num1, num2 = num2, num1\n",
    "if num2 > num3:\n",
    "    num2, num3 = num3, num2\n",
    "if num1 > num2:\n",
    "    num1, num2 = num2, num1\n",
    "\n",
    "# Display the sorted numbers\n",
    "print(f\"The numbers in ascending order are: {num1}, {num2}, {num3}\")\n"
   ]
  },
  {
   "cell_type": "markdown",
   "id": "34b9bc27-12d5-4a1f-aedc-8c3f83a819fa",
   "metadata": {},
   "source": [
    "q.29"
   ]
  },
  {
   "cell_type": "code",
   "execution_count": 133,
   "id": "7496bde3-3a99-494a-b2d5-10f7312f11e1",
   "metadata": {},
   "outputs": [],
   "source": [
    "#Solving quartic equations (4th-degree polynomial equations) analytically can be complex and may involve both real and complex roots. Numerical methods, such as the Newton-Raphson method or other iterative techniques, are often used to find approximate solutions. Below is a simplified Python program that uses the sympy library to find numerical roots of a quartic equation:"
   ]
  },
  {
   "cell_type": "code",
   "execution_count": 134,
   "id": "6e504e33-f287-477d-aab8-6150b2e44ce0",
   "metadata": {},
   "outputs": [
    {
     "name": "stdout",
     "output_type": "stream",
     "text": [
      "Numerical Roots of the Quartic Equation:\n",
      "x = 0.000000\n",
      "x = 1.000000\n",
      "x = 2.000000\n",
      "x = 3.000000\n"
     ]
    }
   ],
   "source": [
    "import sympy as sp\n",
    "\n",
    "# Define the variable and equation\n",
    "x = sp.symbols('x')\n",
    "equation = x**4 - 6*x**3 + 11*x**2 - 6*x\n",
    "\n",
    "# Find the numerical roots\n",
    "roots = sp.solve(equation, x)\n",
    "\n",
    "# Display the roots\n",
    "print(\"Numerical Roots of the Quartic Equation:\")\n",
    "for root in roots:\n",
    "    print(f\"x = {root:.6f}\")\n"
   ]
  },
  {
   "cell_type": "markdown",
   "id": "b43c22c3-4dbb-48b8-b3fe-077be51e27c7",
   "metadata": {},
   "source": [
    "q.30"
   ]
  },
  {
   "cell_type": "code",
   "execution_count": 135,
   "id": "1b88339a-85bf-4e34-9e1c-693f4d948781",
   "metadata": {},
   "outputs": [],
   "source": [
    "#You can create a Python program that calculates the BMI (Body Mass Index) and provides health recommendations based on the user's input. Here's a simple program to get you started:"
   ]
  },
  {
   "cell_type": "code",
   "execution_count": 136,
   "id": "4a5db1ab-321e-4322-8ee6-45ca41d27ca7",
   "metadata": {},
   "outputs": [
    {
     "name": "stdin",
     "output_type": "stream",
     "text": [
      "Enter your weight in kilograms:  89\n",
      "Enter your height in meters:  5\n"
     ]
    },
    {
     "name": "stdout",
     "output_type": "stream",
     "text": [
      "Your BMI is: 3.56\n",
      "You are underweight. It's recommended to consult with a healthcare professional and consider a balanced diet and exercise.\n"
     ]
    }
   ],
   "source": [
    "# Function to calculate BMI\n",
    "def calculate_bmi(weight_kg, height_m):\n",
    "    return weight_kg / (height_m ** 2)\n",
    "\n",
    "# Function to provide health recommendations\n",
    "def get_health_recommendations(bmi):\n",
    "    if bmi < 18.5:\n",
    "        return \"You are underweight. It's recommended to consult with a healthcare professional and consider a balanced diet and exercise.\"\n",
    "    elif 18.5 <= bmi < 24.9:\n",
    "        return \"Your BMI is in the healthy range. Keep up the good work with a balanced diet and regular exercise.\"\n",
    "    elif 25 <= bmi < 29.9:\n",
    "        return \"You are overweight. Consider a balanced diet and increased physical activity to maintain a healthy weight.\"\n",
    "    else:\n",
    "        return \"You are obese. It's important to consult with a healthcare professional for guidance on weight management and lifestyle changes.\"\n",
    "\n",
    "# Input weight and height from the user\n",
    "weight_kg = float(input(\"Enter your weight in kilograms: \"))\n",
    "height_m = float(input(\"Enter your height in meters: \"))\n",
    "\n",
    "# Calculate BMI\n",
    "bmi = calculate_bmi(weight_kg, height_m)\n",
    "\n",
    "# Display BMI and health recommendations\n",
    "print(f\"Your BMI is: {bmi:.2f}\")\n",
    "recommendations = get_health_recommendations(bmi)\n",
    "print(recommendations)\n"
   ]
  },
  {
   "cell_type": "code",
   "execution_count": 137,
   "id": "9216833d-9f69-4efa-b31e-60de2e5161f1",
   "metadata": {},
   "outputs": [],
   "source": [
    "#Challenge Level:"
   ]
  },
  {
   "cell_type": "markdown",
   "id": "dc46a6eb-59ea-4b54-996f-674efc4682de",
   "metadata": {},
   "source": [
    "q.31"
   ]
  },
  {
   "cell_type": "code",
   "execution_count": 138,
   "id": "4343a430-6ca4-482a-821b-865cc3e5701e",
   "metadata": {},
   "outputs": [],
   "source": [
    "#You can create a Python program to validate a password based on complexity rules, such as minimum length, the inclusion of uppercase and lowercase letters, digits, and special characters. Here's a program that does that:"
   ]
  },
  {
   "cell_type": "code",
   "execution_count": 139,
   "id": "199f4fe9-92b9-4b8c-b4af-85797a5388e1",
   "metadata": {},
   "outputs": [
    {
     "name": "stdin",
     "output_type": "stream",
     "text": [
      "Enter a password:  mko89\n"
     ]
    },
    {
     "name": "stdout",
     "output_type": "stream",
     "text": [
      "Password does not meet complexity requirements. Please try again.\n"
     ]
    },
    {
     "name": "stdin",
     "output_type": "stream",
     "text": [
      "Enter a password:  mkj\n"
     ]
    },
    {
     "name": "stdout",
     "output_type": "stream",
     "text": [
      "Password does not meet complexity requirements. Please try again.\n"
     ]
    },
    {
     "name": "stdin",
     "output_type": "stream",
     "text": [
      "Enter a password:  tyuiij86\n"
     ]
    },
    {
     "name": "stdout",
     "output_type": "stream",
     "text": [
      "Password does not meet complexity requirements. Please try again.\n"
     ]
    },
    {
     "name": "stdin",
     "output_type": "stream",
     "text": [
      "Enter a password:  @mohitmaheshM45\n"
     ]
    },
    {
     "name": "stdout",
     "output_type": "stream",
     "text": [
      "Password is valid.\n"
     ]
    }
   ],
   "source": [
    "import re\n",
    "\n",
    "# Function to validate a password\n",
    "def is_valid_password(password):\n",
    "    # Define complexity rules\n",
    "    min_length = 8\n",
    "    has_lowercase = bool(re.search(r'[a-z]', password))\n",
    "    has_uppercase = bool(re.search(r'[A-Z]', password))\n",
    "    has_digit = bool(re.search(r'\\d', password))\n",
    "    has_special_char = bool(re.search(r'[!@#$%^&*(),.?\":{}|<>]', password))\n",
    "\n",
    "    # Check if the password meets all complexity rules\n",
    "    if (\n",
    "        len(password) >= min_length\n",
    "        and has_lowercase\n",
    "        and has_uppercase\n",
    "        and has_digit\n",
    "        and has_special_char\n",
    "    ):\n",
    "        return True\n",
    "    else:\n",
    "        return False\n",
    "\n",
    "# Input and validate a password\n",
    "while True:\n",
    "    password = input(\"Enter a password: \")\n",
    "\n",
    "    if is_valid_password(password):\n",
    "        print(\"Password is valid.\")\n",
    "        break\n",
    "    else:\n",
    "        print(\"Password does not meet complexity requirements. Please try again.\")\n"
   ]
  },
  {
   "cell_type": "markdown",
   "id": "f187523b-ab8a-4106-855d-0c8876a94626",
   "metadata": {},
   "source": [
    "q.32"
   ]
  },
  {
   "cell_type": "code",
   "execution_count": 140,
   "id": "cd60a778-806c-423b-a8cc-16ea61476679",
   "metadata": {},
   "outputs": [],
   "source": [
    "#You can create a Python program that performs matrix addition and subtraction based on user input. Here's a program that does that"
   ]
  },
  {
   "cell_type": "code",
   "execution_count": 142,
   "id": "e3b234f0-b488-41ed-84e8-64a77394cea6",
   "metadata": {},
   "outputs": [
    {
     "name": "stdin",
     "output_type": "stream",
     "text": [
      "Enter the number of rows:  2\n",
      "Enter the number of columns:  3\n"
     ]
    },
    {
     "name": "stdout",
     "output_type": "stream",
     "text": [
      "Matrix 1:\n",
      "Enter 2x3 matrix:\n"
     ]
    },
    {
     "name": "stdin",
     "output_type": "stream",
     "text": [
      "Enter element at row 1, column 1:  1\n",
      "Enter element at row 1, column 2:  2\n",
      "Enter element at row 1, column 3:  6\n",
      "Enter element at row 2, column 1:  8\n",
      "Enter element at row 2, column 2:  5\n",
      "Enter element at row 2, column 3:  9\n"
     ]
    },
    {
     "name": "stdout",
     "output_type": "stream",
     "text": [
      "Matrix 2:\n",
      "Enter 2x3 matrix:\n"
     ]
    },
    {
     "name": "stdin",
     "output_type": "stream",
     "text": [
      "Enter element at row 1, column 1:  2\n",
      "Enter element at row 1, column 2:  3\n",
      "Enter element at row 1, column 3:  6\n",
      "Enter element at row 2, column 1:  7\n",
      "Enter element at row 2, column 2:  7\n",
      "Enter element at row 2, column 3:  3\n"
     ]
    },
    {
     "name": "stdout",
     "output_type": "stream",
     "text": [
      "Matrix Addition Result:\n",
      "[3.0, 5.0, 12.0]\n",
      "[15.0, 12.0, 12.0]\n",
      "Matrix Subtraction Result:\n",
      "[-1.0, -1.0, 0.0]\n",
      "[1.0, -2.0, 6.0]\n"
     ]
    }
   ],
   "source": [
    "# Function to input a matrix from the user\n",
    "def input_matrix(rows, cols):\n",
    "    matrix = []\n",
    "    print(f\"Enter {rows}x{cols} matrix:\")\n",
    "    for i in range(rows):\n",
    "        row = []\n",
    "        for j in range(cols):\n",
    "            element = float(input(f\"Enter element at row {i + 1}, column {j + 1}: \"))\n",
    "            row.append(element)\n",
    "        matrix.append(row)\n",
    "    return matrix\n",
    "\n",
    "# Function to add two matrices\n",
    "def add_matrices(matrix1, matrix2):\n",
    "    if len(matrix1) != len(matrix2) or len(matrix1[0]) != len(matrix2[0]):\n",
    "        return None  # Matrices must have the same dimensions for addition\n",
    "    result = []\n",
    "    for i in range(len(matrix1)):\n",
    "        row = []\n",
    "        for j in range(len(matrix1[0])):\n",
    "            sum_element = matrix1[i][j] + matrix2[i][j]\n",
    "            row.append(sum_element)\n",
    "        result.append(row)\n",
    "    return result\n",
    "\n",
    "# Function to subtract two matrices\n",
    "def subtract_matrices(matrix1, matrix2):\n",
    "    if len(matrix1) != len(matrix2) or len(matrix1[0]) != len(matrix2[0]):\n",
    "        return None  # Matrices must have the same dimensions for subtraction\n",
    "    result = []\n",
    "    for i in range(len(matrix1)):\n",
    "        row = []\n",
    "        for j in range(len(matrix1[0])):\n",
    "            diff_element = matrix1[i][j] - matrix2[i][j]\n",
    "            row.append(diff_element)\n",
    "        result.append(row)\n",
    "    return result\n",
    "\n",
    "# Input matrix dimensions from the user\n",
    "rows = int(input(\"Enter the number of rows: \"))\n",
    "cols = int(input(\"Enter the number of columns: \"))\n",
    "\n",
    "# Input the first matrix\n",
    "print(\"Matrix 1:\")\n",
    "matrix1 = input_matrix(rows, cols)\n",
    "\n",
    "# Input the second matrix\n",
    "print(\"Matrix 2:\")\n",
    "matrix2 = input_matrix(rows, cols)\n",
    "\n",
    "# Perform matrix addition and display the result\n",
    "sum_result = add_matrices(matrix1, matrix2)\n",
    "if sum_result:\n",
    "    print(\"Matrix Addition Result:\")\n",
    "    for row in sum_result:\n",
    "        print(row)\n",
    "\n",
    "# Perform matrix subtraction and display the result\n",
    "diff_result = subtract_matrices(matrix1, matrix2)\n",
    "if diff_result:\n",
    "    print(\"Matrix Subtraction Result:\")\n",
    "    for row in diff_result:\n",
    "        print(row)\n"
   ]
  },
  {
   "cell_type": "markdown",
   "id": "8d730061-cc22-47e6-8534-0d221a0db8c6",
   "metadata": {},
   "source": [
    "q.33"
   ]
  },
  {
   "cell_type": "code",
   "execution_count": 143,
   "id": "262c32cd-ffa0-487d-ae70-3db5cc983821",
   "metadata": {},
   "outputs": [],
   "source": [
    "#You can create a Python program to calculate the greatest common divisor (GCD) of two numbers using the Euclidean algorithm. Here's a program that does that:"
   ]
  },
  {
   "cell_type": "code",
   "execution_count": 144,
   "id": "177ed4ee-ba0a-4779-8025-c2fac6ce6224",
   "metadata": {},
   "outputs": [
    {
     "name": "stdin",
     "output_type": "stream",
     "text": [
      "Enter the first number:  54\n",
      "Enter the second number:  65\n"
     ]
    },
    {
     "name": "stdout",
     "output_type": "stream",
     "text": [
      "The Greatest Common Divisor (GCD) of 54 and 65 is: 1\n"
     ]
    }
   ],
   "source": [
    "# Function to calculate the GCD using the Euclidean algorithm\n",
    "def gcd_euclidean(a, b):\n",
    "    while b:\n",
    "        a, b = b, a % b\n",
    "    return a\n",
    "\n",
    "# Input two numbers from the user\n",
    "num1 = int(input(\"Enter the first number: \"))\n",
    "num2 = int(input(\"Enter the second number: \"))\n",
    "\n",
    "# Calculate the GCD\n",
    "gcd = gcd_euclidean(num1, num2)\n",
    "\n",
    "# Display the GCD\n",
    "print(f\"The Greatest Common Divisor (GCD) of {num1} and {num2} is: {gcd}\")\n"
   ]
  },
  {
   "cell_type": "markdown",
   "id": "ec9fcff6-f357-4436-9a22-680c2097fd9f",
   "metadata": {},
   "source": [
    "q.34"
   ]
  },
  {
   "cell_type": "code",
   "execution_count": 145,
   "id": "57713edf-a709-4c85-bdf4-f9441632af6c",
   "metadata": {},
   "outputs": [],
   "source": [
    "#You can create a Python program to perform matrix multiplication using nested loops and conditional statements. Here's a program that does matrix multiplication for two matrices A and B:"
   ]
  },
  {
   "cell_type": "code",
   "execution_count": 148,
   "id": "5c6430e4-830f-4f86-b4c0-3af2f02ed488",
   "metadata": {},
   "outputs": [
    {
     "name": "stdin",
     "output_type": "stream",
     "text": [
      "Enter the number of rows for matrix A:  2\n",
      "Enter the number of columns for matrix A:  3\n",
      "Enter the number of rows for matrix B:  1\n",
      "Enter the number of columns for matrix B:  2\n"
     ]
    },
    {
     "name": "stdout",
     "output_type": "stream",
     "text": [
      "Matrix A:\n",
      "Enter 2x3 matrix:\n"
     ]
    },
    {
     "name": "stdin",
     "output_type": "stream",
     "text": [
      "Enter element at row 1, column 1:  4\n",
      "Enter element at row 1, column 2:  6\n",
      "Enter element at row 1, column 3:  5\n",
      "Enter element at row 2, column 1:  6\n",
      "Enter element at row 2, column 2:  2\n",
      "Enter element at row 2, column 3:  1\n"
     ]
    },
    {
     "name": "stdout",
     "output_type": "stream",
     "text": [
      "Matrix B:\n",
      "Enter 1x2 matrix:\n"
     ]
    },
    {
     "name": "stdin",
     "output_type": "stream",
     "text": [
      "Enter element at row 1, column 1:  2\n",
      "Enter element at row 1, column 2:  3\n"
     ]
    },
    {
     "name": "stdout",
     "output_type": "stream",
     "text": [
      "Matrix multiplication is not possible due to incompatible dimensions.\n"
     ]
    }
   ],
   "source": [
    "# Function to input a matrix from the user\n",
    "def input_matrix(rows, cols):\n",
    "    matrix = []\n",
    "    print(f\"Enter {rows}x{cols} matrix:\")\n",
    "    for i in range(rows):\n",
    "        row = []\n",
    "        for j in range(cols):\n",
    "            element = float(input(f\"Enter element at row {i + 1}, column {j + 1}: \"))\n",
    "            row.append(element)\n",
    "        matrix.append(row)\n",
    "    return matrix\n",
    "\n",
    "# Function to perform matrix multiplication\n",
    "def multiply_matrices(matrix1, matrix2):\n",
    "    if len(matrix1[0]) != len(matrix2):\n",
    "        return None  # Matrices cannot be multiplied\n",
    "    result = []\n",
    "    for i in range(len(matrix1)):\n",
    "        row = []\n",
    "        for j in range(len(matrix2[0])):\n",
    "            product = 0\n",
    "            for k in range(len(matrix2)):\n",
    "                product += matrix1[i][k] * matrix2[k][j]\n",
    "            row.append(product)\n",
    "        result.append(row)\n",
    "    return result\n",
    "\n",
    "# Input matrix dimensions from the user\n",
    "rows1 = int(input(\"Enter the number of rows for matrix A: \"))\n",
    "cols1 = int(input(\"Enter the number of columns for matrix A: \"))\n",
    "\n",
    "rows2 = int(input(\"Enter the number of rows for matrix B: \"))\n",
    "cols2 = int(input(\"Enter the number of columns for matrix B: \"))\n",
    "\n",
    "# Input the first matrix (A)\n",
    "print(\"Matrix A:\")\n",
    "matrix1 = input_matrix(rows1, cols1)\n",
    "\n",
    "# Input the second matrix (B)\n",
    "print(\"Matrix B:\")\n",
    "matrix2 = input_matrix(rows2, cols2)\n",
    "\n",
    "# Perform matrix multiplication and display the result\n",
    "product_result = multiply_matrices(matrix1, matrix2)\n",
    "if product_result:\n",
    "    print(\"Matrix Multiplication Result:\")\n",
    "    for row in product_result:\n",
    "        print(row)\n",
    "else:\n",
    "    print(\"Matrix multiplication is not possible due to incompatible dimensions.\")\n"
   ]
  },
  {
   "cell_type": "markdown",
   "id": "8f2f24a3-500f-4dc5-8a69-fa1a4cb52914",
   "metadata": {},
   "source": [
    "q.35"
   ]
  },
  {
   "cell_type": "code",
   "execution_count": 149,
   "id": "830b6ad0-434d-4648-847c-472e070f4e2b",
   "metadata": {},
   "outputs": [],
   "source": [
    "#Creating a text-based tic-tac-toe game against the computer can be a fun project. Here's a simple Python program that simulates a basic text-based tic-tac-toe game:"
   ]
  },
  {
   "cell_type": "code",
   "execution_count": 164,
   "id": "e6a0a961-d3f6-4266-b037-6dc08dae51e1",
   "metadata": {},
   "outputs": [
    {
     "name": "stdout",
     "output_type": "stream",
     "text": [
      "  |   |  \n",
      "---------\n",
      "  |   |  \n",
      "---------\n",
      "  |   |  \n",
      "---------\n",
      "Player X's turn:\n"
     ]
    },
    {
     "name": "stdin",
     "output_type": "stream",
     "text": [
      "Enter row and column (e.g., 1 2):  1  2\n"
     ]
    },
    {
     "name": "stdout",
     "output_type": "stream",
     "text": [
      "  | X |  \n",
      "---------\n",
      "  |   |  \n",
      "---------\n",
      "  |   |  \n",
      "---------\n",
      "Computer's turn (O):\n",
      "  | X |  \n",
      "---------\n",
      "  |   | O\n",
      "---------\n",
      "  |   |  \n",
      "---------\n",
      "Player X's turn:\n"
     ]
    },
    {
     "name": "stdin",
     "output_type": "stream",
     "text": [
      "Enter row and column (e.g., 1 2):  1  1\n"
     ]
    },
    {
     "name": "stdout",
     "output_type": "stream",
     "text": [
      "X | X |  \n",
      "---------\n",
      "  |   | O\n",
      "---------\n",
      "  |   |  \n",
      "---------\n",
      "Computer's turn (O):\n",
      "X | X |  \n",
      "---------\n",
      "  |   | O\n",
      "---------\n",
      "O |   |  \n",
      "---------\n",
      "Player X's turn:\n"
     ]
    },
    {
     "name": "stdin",
     "output_type": "stream",
     "text": [
      "Enter row and column (e.g., 1 2):  1  2\n"
     ]
    },
    {
     "name": "stdout",
     "output_type": "stream",
     "text": [
      "Invalid move. Try again.\n",
      "Player X's turn:\n"
     ]
    },
    {
     "name": "stdin",
     "output_type": "stream",
     "text": [
      "Enter row and column (e.g., 1 2):  1  2\n"
     ]
    },
    {
     "name": "stdout",
     "output_type": "stream",
     "text": [
      "Invalid move. Try again.\n",
      "Player X's turn:\n"
     ]
    },
    {
     "name": "stdin",
     "output_type": "stream",
     "text": [
      "Enter row and column (e.g., 1 2):  1 2 \n"
     ]
    },
    {
     "name": "stdout",
     "output_type": "stream",
     "text": [
      "Invalid move. Try again.\n",
      "Player X's turn:\n"
     ]
    },
    {
     "name": "stdin",
     "output_type": "stream",
     "text": [
      "Enter row and column (e.g., 1 2):  1 2\n"
     ]
    },
    {
     "name": "stdout",
     "output_type": "stream",
     "text": [
      "Invalid move. Try again.\n",
      "Player X's turn:\n"
     ]
    },
    {
     "name": "stdin",
     "output_type": "stream",
     "text": [
      "Enter row and column (e.g., 1 2):  1 2\n"
     ]
    },
    {
     "name": "stdout",
     "output_type": "stream",
     "text": [
      "Invalid move. Try again.\n",
      "Player X's turn:\n"
     ]
    },
    {
     "name": "stdin",
     "output_type": "stream",
     "text": [
      "Enter row and column (e.g., 1 2):  1 2 \n"
     ]
    },
    {
     "name": "stdout",
     "output_type": "stream",
     "text": [
      "Invalid move. Try again.\n",
      "Player X's turn:\n"
     ]
    },
    {
     "name": "stdin",
     "output_type": "stream",
     "text": [
      "Enter row and column (e.g., 1 2):  1 2\n"
     ]
    },
    {
     "name": "stdout",
     "output_type": "stream",
     "text": [
      "Invalid move. Try again.\n",
      "Player X's turn:\n"
     ]
    },
    {
     "name": "stdin",
     "output_type": "stream",
     "text": [
      "Enter row and column (e.g., 1 2):  1 1\n"
     ]
    },
    {
     "name": "stdout",
     "output_type": "stream",
     "text": [
      "Invalid move. Try again.\n",
      "Player X's turn:\n"
     ]
    },
    {
     "name": "stdin",
     "output_type": "stream",
     "text": [
      "Enter row and column (e.g., 1 2):  1 1\n"
     ]
    },
    {
     "name": "stdout",
     "output_type": "stream",
     "text": [
      "Invalid move. Try again.\n",
      "Player X's turn:\n"
     ]
    },
    {
     "name": "stdin",
     "output_type": "stream",
     "text": [
      "Enter row and column (e.g., 1 2):  1  2\n"
     ]
    },
    {
     "name": "stdout",
     "output_type": "stream",
     "text": [
      "Invalid move. Try again.\n",
      "Player X's turn:\n"
     ]
    },
    {
     "name": "stdin",
     "output_type": "stream",
     "text": [
      "Enter row and column (e.g., 1 2):  1 1\n"
     ]
    },
    {
     "name": "stdout",
     "output_type": "stream",
     "text": [
      "Invalid move. Try again.\n",
      "Player X's turn:\n"
     ]
    },
    {
     "name": "stdin",
     "output_type": "stream",
     "text": [
      "Enter row and column (e.g., 1 2):  1 2\n"
     ]
    },
    {
     "name": "stdout",
     "output_type": "stream",
     "text": [
      "Invalid move. Try again.\n",
      "Player X's turn:\n"
     ]
    },
    {
     "name": "stdin",
     "output_type": "stream",
     "text": [
      "Enter row and column (e.g., 1 2):  1 2\n"
     ]
    },
    {
     "name": "stdout",
     "output_type": "stream",
     "text": [
      "Invalid move. Try again.\n",
      "Player X's turn:\n"
     ]
    },
    {
     "name": "stdin",
     "output_type": "stream",
     "text": [
      "Enter row and column (e.g., 1 2):  1 1\n"
     ]
    },
    {
     "name": "stdout",
     "output_type": "stream",
     "text": [
      "Invalid move. Try again.\n",
      "Player X's turn:\n"
     ]
    },
    {
     "name": "stdin",
     "output_type": "stream",
     "text": [
      "Enter row and column (e.g., 1 2):  1 2\n"
     ]
    },
    {
     "name": "stdout",
     "output_type": "stream",
     "text": [
      "Invalid move. Try again.\n",
      "Player X's turn:\n"
     ]
    },
    {
     "name": "stdin",
     "output_type": "stream",
     "text": [
      "Enter row and column (e.g., 1 2):  1 0\n"
     ]
    },
    {
     "name": "stdout",
     "output_type": "stream",
     "text": [
      "X | X | X\n",
      "---------\n",
      "  |   | O\n",
      "---------\n",
      "O |   |  \n",
      "---------\n",
      "Player X wins!\n"
     ]
    }
   ],
   "source": [
    "import random\n",
    "\n",
    "# Function to initialize the board\n",
    "def initialize_board():\n",
    "    return [[\" \" for _ in range(3)] for _ in range(3)]\n",
    "\n",
    "# Function to display the board\n",
    "def display_board(board):\n",
    "    for row in board:\n",
    "        print(\" | \".join(row))\n",
    "        print(\"-\" * 9)\n",
    "\n",
    "# Function to check if a player has won\n",
    "def check_winner(board, player):\n",
    "    for row in board:\n",
    "        if all(cell == player for cell in row):\n",
    "            return True\n",
    "    for col in range(3):\n",
    "        if all(board[row][col] == player for row in range(3)):\n",
    "            return True\n",
    "    if all(board[i][i] == player for i in range(3)) or all(board[i][2 - i] == player for i in range(3)):\n",
    "        return True\n",
    "    return False\n",
    "\n",
    "# Function to check if the board is full\n",
    "def is_board_full(board):\n",
    "    return all(cell != \" \" for row in board for cell in row)\n",
    "\n",
    "# Function for computer's move (randomly)\n",
    "def computer_move(board):\n",
    "    while True:\n",
    "        row = random.randint(0, 2)\n",
    "        col = random.randint(0, 2)\n",
    "        if board[row][col] == \" \":\n",
    "            return row, col\n",
    "\n",
    "# Main game loop\n",
    "def play_tic_tac_toe():\n",
    "    board = initialize_board()\n",
    "    player_turn = True  # True for player X, False for player O\n",
    "    display_board(board)\n",
    "\n",
    "    while True:\n",
    "        if player_turn:\n",
    "            print(\"Player X's turn:\")\n",
    "            row, col = map(int, input(\"Enter row and column (e.g., 1 2): \").split())\n",
    "            if board[row - 1][col - 1] == \" \":\n",
    "                board[row - 1][col - 1] = \"X\"\n",
    "            else:\n",
    "                print(\"Invalid move. Try again.\")\n",
    "                continue\n",
    "        else:\n",
    "            print(\"Computer's turn (O):\")\n",
    "            row, col = computer_move(board)\n",
    "            board[row][col] = \"O\"\n",
    "\n",
    "        display_board(board)\n",
    "\n",
    "        if check_winner(board, \"X\"):\n",
    "            print(\"Player X wins!\")\n",
    "            break\n",
    "        if check_winner(board, \"O\"):\n",
    "            print(\"Computer (O) wins!\")\n",
    "            break\n",
    "        if is_board_full(board):\n",
    "            print(\"It's a tie!\")\n",
    "            break\n",
    "\n",
    "        player_turn = not player_turn\n",
    "\n",
    "if __name__ == \"__main__\":\n",
    "    play_tic_tac_toe()\n"
   ]
  },
  {
   "cell_type": "markdown",
   "id": "dd4d6e53-0667-49c5-b137-48c53ad05807",
   "metadata": {},
   "source": [
    "q.36"
   ]
  },
  {
   "cell_type": "code",
   "execution_count": null,
   "id": "9f1d5e30-24fe-4d2b-ae35-02702490fb31",
   "metadata": {},
   "outputs": [],
   "source": [
    "#You can create a Python program to generate Fibonacci numbers up to a specified term using an iterative method. Here's a program that does that:"
   ]
  },
  {
   "cell_type": "code",
   "execution_count": 165,
   "id": "99241749-d39f-4d2d-a39f-24595619732e",
   "metadata": {},
   "outputs": [
    {
     "name": "stdin",
     "output_type": "stream",
     "text": [
      "Enter the term up to which you want to generate Fibonacci numbers:  12\n"
     ]
    },
    {
     "name": "stdout",
     "output_type": "stream",
     "text": [
      "Fibonacci numbers up to term 12 :\n",
      "[0, 1, 1, 2, 3, 5, 8]\n"
     ]
    }
   ],
   "source": [
    "# Function to generate Fibonacci numbers up to a specified term\n",
    "def generate_fibonacci(n):\n",
    "    fibonacci_sequence = []\n",
    "    a, b = 0, 1\n",
    "    while a <= n:\n",
    "        fibonacci_sequence.append(a)\n",
    "        a, b = b, a + b\n",
    "    return fibonacci_sequence\n",
    "\n",
    "# Input the specified term from the user\n",
    "term = int(input(\"Enter the term up to which you want to generate Fibonacci numbers: \"))\n",
    "\n",
    "# Generate and display Fibonacci numbers\n",
    "fibonacci_numbers = generate_fibonacci(term)\n",
    "print(\"Fibonacci numbers up to term\", term, \":\")\n",
    "print(fibonacci_numbers)\n"
   ]
  },
  {
   "cell_type": "markdown",
   "id": "de956b4f-aff7-4a30-a051-5378c9ff7d83",
   "metadata": {},
   "source": [
    " q.37"
   ]
  },
  {
   "cell_type": "code",
   "execution_count": 166,
   "id": "c107aab5-f6da-44f0-994f-46999f2e63df",
   "metadata": {},
   "outputs": [],
   "source": [
    "#You can create a Python program to calculate the nth term of the Fibonacci sequence using memoization. Memoization is a technique that stores previously calculated Fibonacci numbers to avoid redundant calculations. Here's a program that does that:"
   ]
  },
  {
   "cell_type": "code",
   "execution_count": 167,
   "id": "76d72df6-f9eb-41cf-b131-7730689eb928",
   "metadata": {},
   "outputs": [
    {
     "name": "stdin",
     "output_type": "stream",
     "text": [
      "Enter the term (n) for the Fibonacci sequence:  5\n"
     ]
    },
    {
     "name": "stdout",
     "output_type": "stream",
     "text": [
      "The 5th term of the Fibonacci sequence is: 5\n"
     ]
    }
   ],
   "source": [
    "# Dictionary to store Fibonacci numbers for memoization\n",
    "fibonacci_cache = {}\n",
    "\n",
    "# Function to calculate the nth term of the Fibonacci sequence using memoization\n",
    "def fibonacci_memoization(n):\n",
    "    # Check if the value is already cached\n",
    "    if n in fibonacci_cache:\n",
    "        return fibonacci_cache[n]\n",
    "\n",
    "    # Calculate the Fibonacci number recursively\n",
    "    if n <= 1:\n",
    "        fibonacci_cache[n] = n\n",
    "    else:\n",
    "        fibonacci_cache[n] = fibonacci_memoization(n - 1) + fibonacci_memoization(n - 2)\n",
    "    \n",
    "    return fibonacci_cache[n]\n",
    "\n",
    "# Input the term (n) from the user\n",
    "term = int(input(\"Enter the term (n) for the Fibonacci sequence: \"))\n",
    "\n",
    "# Calculate and display the nth term using memoization\n",
    "nth_term = fibonacci_memoization(term)\n",
    "print(f\"The {term}th term of the Fibonacci sequence is: {nth_term}\")\n"
   ]
  },
  {
   "cell_type": "markdown",
   "id": "2744a578-1ecd-472d-b035-47d93d2b73da",
   "metadata": {},
   "source": [
    "q.38"
   ]
  },
  {
   "cell_type": "code",
   "execution_count": 168,
   "id": "4984172d-4aec-4255-9f8b-1db8066bd07a",
   "metadata": {},
   "outputs": [],
   "source": [
    "#You can create a Python program that generates a calendar for a given month and year using conditional statements and the calendar module. Here's a program that does that:"
   ]
  },
  {
   "cell_type": "code",
   "execution_count": 169,
   "id": "452aabd8-0fdd-4a52-aea1-9b16e6ec2042",
   "metadata": {},
   "outputs": [
    {
     "name": "stdin",
     "output_type": "stream",
     "text": [
      "Enter the year:  1987\n",
      "Enter the month (1-12):  5\n"
     ]
    },
    {
     "name": "stdout",
     "output_type": "stream",
     "text": [
      "Calendar for May 1987:\n",
      "\n",
      "      May 1987\n",
      "Mo Tu We Th Fr Sa Su\n",
      "             1  2  3\n",
      " 4  5  6  7  8  9 10\n",
      "11 12 13 14 15 16 17\n",
      "18 19 20 21 22 23 24\n",
      "25 26 27 28 29 30 31\n",
      "\n"
     ]
    }
   ],
   "source": [
    "import calendar\n",
    "\n",
    "# Function to generate a calendar for a given month and year\n",
    "def generate_calendar(year, month):\n",
    "    cal = calendar.month(year, month)\n",
    "    return cal\n",
    "\n",
    "# Input the year and month from the user\n",
    "year = int(input(\"Enter the year: \"))\n",
    "month = int(input(\"Enter the month (1-12): \"))\n",
    "\n",
    "# Validate the month input\n",
    "if month < 1 or month > 12:\n",
    "    print(\"Invalid month input. Please enter a month between 1 and 12.\")\n",
    "else:\n",
    "    # Generate and display the calendar\n",
    "    cal = generate_calendar(year, month)\n",
    "    print(f\"Calendar for {calendar.month_name[month]} {year}:\\n\")\n",
    "    print(cal)\n"
   ]
  },
  {
   "cell_type": "markdown",
   "id": "28075036-2435-44d3-b203-e8d49825cbe3",
   "metadata": {},
   "source": [
    "q.39"
   ]
  },
  {
   "cell_type": "code",
   "execution_count": 170,
   "id": "1c203ae3-7429-4416-b06e-b91880ef2856",
   "metadata": {},
   "outputs": [],
   "source": [
    "#Creating a text-based blackjack game against the computer is a fun project. Here's a simple Python program that simulates a basic text-based blackjack game:"
   ]
  },
  {
   "cell_type": "code",
   "execution_count": 171,
   "id": "435e0a08-9bca-4699-bd56-c598f54d3837",
   "metadata": {},
   "outputs": [
    {
     "name": "stdout",
     "output_type": "stream",
     "text": [
      "\n",
      "Your hand:\n",
      "K of Clubs\n",
      "10 of Spades\n",
      "Total value: 20\n"
     ]
    },
    {
     "name": "stdin",
     "output_type": "stream",
     "text": [
      "Do you want to hit or stand?  stand\n"
     ]
    },
    {
     "name": "stdout",
     "output_type": "stream",
     "text": [
      "\n",
      "Computer's hand:\n",
      "J of Hearts\n",
      "7 of Spades\n",
      "Total value: 17\n",
      "You win!\n"
     ]
    }
   ],
   "source": [
    "import random\n",
    "\n",
    "# Function to initialize the deck\n",
    "def initialize_deck():\n",
    "    ranks = [\"2\", \"3\", \"4\", \"5\", \"6\", \"7\", \"8\", \"9\", \"10\", \"J\", \"Q\", \"K\", \"A\"]\n",
    "    suits = [\"Hearts\", \"Diamonds\", \"Clubs\", \"Spades\"]\n",
    "    deck = [{\"rank\": rank, \"suit\": suit} for rank in ranks for suit in suits]\n",
    "    random.shuffle(deck)\n",
    "    return deck\n",
    "\n",
    "# Function to calculate the total value of a hand\n",
    "def calculate_hand_value(hand):\n",
    "    value = 0\n",
    "    num_aces = 0\n",
    "\n",
    "    for card in hand:\n",
    "        rank = card[\"rank\"]\n",
    "        if rank.isdigit():\n",
    "            value += int(rank)\n",
    "        elif rank in [\"K\", \"Q\", \"J\"]:\n",
    "            value += 10\n",
    "        elif rank == \"A\":\n",
    "            value += 11\n",
    "            num_aces += 1\n",
    "\n",
    "    while value > 21 and num_aces > 0:\n",
    "        value -= 10\n",
    "        num_aces -= 1\n",
    "\n",
    "    return value\n",
    "\n",
    "# Function to display a hand\n",
    "def display_hand(hand):\n",
    "    for card in hand:\n",
    "        print(f\"{card['rank']} of {card['suit']}\")\n",
    "\n",
    "# Initialize the deck and hands\n",
    "deck = initialize_deck()\n",
    "player_hand = []\n",
    "computer_hand = []\n",
    "\n",
    "# Deal two initial cards to each player\n",
    "for _ in range(2):\n",
    "    player_hand.append(deck.pop())\n",
    "    computer_hand.append(deck.pop())\n",
    "\n",
    "# Main game loop\n",
    "while True:\n",
    "    # Display player's hand and total value\n",
    "    print(\"\\nYour hand:\")\n",
    "    display_hand(player_hand)\n",
    "    player_value = calculate_hand_value(player_hand)\n",
    "    print(f\"Total value: {player_value}\")\n",
    "\n",
    "    # Check if player busts (total value > 21)\n",
    "    if player_value > 21:\n",
    "        print(\"Bust! You lose.\")\n",
    "        break\n",
    "\n",
    "    # Ask the player for their move (hit or stand)\n",
    "    move = input(\"Do you want to hit or stand? \").lower()\n",
    "\n",
    "    if move == \"hit\":\n",
    "        # Deal a card to the player\n",
    "        player_hand.append(deck.pop())\n",
    "    elif move == \"stand\":\n",
    "        # Computer's turn\n",
    "        while calculate_hand_value(computer_hand) < 17:\n",
    "            computer_hand.append(deck.pop())\n",
    "\n",
    "        # Display computer's hand and total value\n",
    "        print(\"\\nComputer's hand:\")\n",
    "        display_hand(computer_hand)\n",
    "        computer_value = calculate_hand_value(computer_hand)\n",
    "        print(f\"Total value: {computer_value}\")\n",
    "\n",
    "        # Determine the winner\n",
    "        if computer_value > 21 or player_value > computer_value:\n",
    "            print(\"You win!\")\n",
    "        elif computer_value > player_value:\n",
    "            print(\"Computer wins.\")\n",
    "        else:\n",
    "            print(\"It's a tie!\")\n",
    "\n",
    "        break\n",
    "    else:\n",
    "        print(\"Invalid move. Please enter 'hit' or 'stand'.\")\n"
   ]
  },
  {
   "cell_type": "markdown",
   "id": "73127120-6471-4dfe-9e20-03870702d8e0",
   "metadata": {},
   "source": [
    "q.40"
   ]
  },
  {
   "cell_type": "code",
   "execution_count": 172,
   "id": "115abc52-98d2-4b98-8bc1-43ae40c5b4cd",
   "metadata": {},
   "outputs": [],
   "source": [
    "#You can create a Python program that generates the prime factors of a given number using trial division. Here's a program that does that:"
   ]
  },
  {
   "cell_type": "code",
   "execution_count": 173,
   "id": "421f75df-8d37-4db6-ac3d-ceecab2d8850",
   "metadata": {},
   "outputs": [
    {
     "name": "stdin",
     "output_type": "stream",
     "text": [
      "Enter a positive integer:  20\n"
     ]
    },
    {
     "name": "stdout",
     "output_type": "stream",
     "text": [
      "Prime factors of 20: [2, 2, 5]\n"
     ]
    }
   ],
   "source": [
    "# Function to find and print prime factors of a number using trial division\n",
    "def prime_factors(n):\n",
    "    factors = []\n",
    "    divisor = 2  # Start with the smallest prime number\n",
    "\n",
    "    while divisor <= n:\n",
    "        if n % divisor == 0:\n",
    "            factors.append(divisor)\n",
    "            n //= divisor\n",
    "        else:\n",
    "            divisor += 1\n",
    "\n",
    "    return factors\n",
    "\n",
    "# Input a number from the user\n",
    "num = int(input(\"Enter a positive integer: \"))\n",
    "\n",
    "if num <= 0:\n",
    "    print(\"Please enter a positive integer.\")\n",
    "else:\n",
    "    # Find and display prime factors\n",
    "    factors = prime_factors(num)\n",
    "    if len(factors) == 0:\n",
    "        print(f\"{num} has no prime factors.\")\n",
    "    else:\n",
    "        print(f\"Prime factors of {num}: {factors}\")\n"
   ]
  },
  {
   "cell_type": "code",
   "execution_count": null,
   "id": "a1ebe544-fcf9-4ce2-8c87-89f61e89cdad",
   "metadata": {},
   "outputs": [],
   "source": []
  }
 ],
 "metadata": {
  "kernelspec": {
   "display_name": "Python 3 (ipykernel)",
   "language": "python",
   "name": "python3"
  },
  "language_info": {
   "codemirror_mode": {
    "name": "ipython",
    "version": 3
   },
   "file_extension": ".py",
   "mimetype": "text/x-python",
   "name": "python",
   "nbconvert_exporter": "python",
   "pygments_lexer": "ipython3",
   "version": "3.10.8"
  }
 },
 "nbformat": 4,
 "nbformat_minor": 5
}
